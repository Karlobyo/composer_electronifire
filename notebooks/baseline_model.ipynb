{
 "cells": [
  {
   "cell_type": "markdown",
   "id": "732caf59",
   "metadata": {
    "id": "732caf59"
   },
   "source": [
    "# Base model and data collection"
   ]
  },
  {
   "cell_type": "code",
   "execution_count": 2,
   "id": "de3fc6c2",
   "metadata": {
    "executionInfo": {
     "elapsed": 660,
     "status": "ok",
     "timestamp": 1669645753705,
     "user": {
      "displayName": "Jason Grieder",
      "userId": "14883558658845383466"
     },
     "user_tz": -60
    },
    "id": "de3fc6c2"
   },
   "outputs": [
    {
     "name": "stderr",
     "output_type": "stream",
     "text": [
      "2022-11-29 16:34:30.792280: I tensorflow/core/platform/cpu_feature_guard.cc:193] This TensorFlow binary is optimized with oneAPI Deep Neural Network Library (oneDNN) to use the following CPU instructions in performance-critical operations:  AVX2 AVX_VNNI FMA\n",
      "To enable them in other operations, rebuild TensorFlow with the appropriate compiler flags.\n",
      "2022-11-29 16:34:31.060798: I tensorflow/core/util/port.cc:104] oneDNN custom operations are on. You may see slightly different numerical results due to floating-point round-off errors from different computation orders. To turn them off, set the environment variable `TF_ENABLE_ONEDNN_OPTS=0`.\n",
      "2022-11-29 16:34:31.111799: W tensorflow/compiler/xla/stream_executor/platform/default/dso_loader.cc:64] Could not load dynamic library 'libcudart.so.11.0'; dlerror: libcudart.so.11.0: cannot open shared object file: No such file or directory\n",
      "2022-11-29 16:34:31.111843: I tensorflow/compiler/xla/stream_executor/cuda/cudart_stub.cc:29] Ignore above cudart dlerror if you do not have a GPU set up on your machine.\n",
      "2022-11-29 16:34:32.053559: W tensorflow/compiler/xla/stream_executor/platform/default/dso_loader.cc:64] Could not load dynamic library 'libnvinfer.so.7'; dlerror: libnvinfer.so.7: cannot open shared object file: No such file or directory\n",
      "2022-11-29 16:34:32.053597: W tensorflow/compiler/xla/stream_executor/platform/default/dso_loader.cc:64] Could not load dynamic library 'libnvinfer_plugin.so.7'; dlerror: libnvinfer_plugin.so.7: cannot open shared object file: No such file or directory\n",
      "2022-11-29 16:34:32.053601: W tensorflow/compiler/tf2tensorrt/utils/py_utils.cc:38] TF-TRT Warning: Cannot dlopen some TensorRT libraries. If you would like to use Nvidia GPU with TensorRT, please make sure the missing libraries mentioned above are installed properly.\n"
     ]
    }
   ],
   "source": [
    "import tensorflow \n",
    "import numpy as np \n",
    "import pandas as pd \n",
    "from collections import Counter\n",
    "import random\n",
    "import IPython\n",
    "from IPython.display import Image, Audio\n",
    "import music21\n",
    "from music21 import *\n",
    "import matplotlib.pyplot as plt \n",
    "from sklearn.model_selection import train_test_split\n",
    "from tensorflow.keras.models import Sequential\n",
    "from tensorflow.keras.layers import LSTM, Dense, Dropout\n",
    "import tensorflow.keras.backend as K\n",
    "from tensorflow.keras.callbacks import EarlyStopping\n",
    "import seaborn as sns\n",
    "import matplotlib.pyplot as plt\n",
    "import matplotlib.patches as mpatches\n",
    "%matplotlib inline\n",
    "import sys\n",
    "import os"
   ]
  },
  {
   "cell_type": "code",
   "execution_count": null,
   "id": "c6jFom5iXmtr",
   "metadata": {
    "colab": {
     "base_uri": "https://localhost:8080/"
    },
    "executionInfo": {
     "elapsed": 27587,
     "status": "ok",
     "timestamp": 1669641216326,
     "user": {
      "displayName": "Jason Grieder",
      "userId": "14883558658845383466"
     },
     "user_tz": -60
    },
    "id": "c6jFom5iXmtr",
    "outputId": "4ae669a8-714a-4a04-a1dd-70ca3749c4df"
   },
   "outputs": [
    {
     "name": "stdout",
     "output_type": "stream",
     "text": [
      "Mounted at /content/drive\n"
     ]
    }
   ],
   "source": [
    "from google.colab import drive\n",
    "drive.mount('/content/drive')"
   ]
  },
  {
   "cell_type": "markdown",
   "id": "ea1353a9",
   "metadata": {
    "id": "ea1353a9"
   },
   "source": [
    "## Load data"
   ]
  },
  {
   "cell_type": "code",
   "execution_count": 5,
   "id": "de703f2b",
   "metadata": {},
   "outputs": [
    {
     "data": {
      "text/plain": [
       "['chpn-p12.mid',\n",
       " 'chpn_op25_e12.mid',\n",
       " 'chpn-p11.mid',\n",
       " 'chpn-p16.mid',\n",
       " 'chpn_op10_e05.mid',\n",
       " 'chpn-p8.mid',\n",
       " 'chpn_op7_2.mid',\n",
       " 'chpn_op25_e1.mid',\n",
       " 'chpn-p10.mid',\n",
       " 'chpn-p14.mid',\n",
       " 'chpn_op23.mid',\n",
       " 'chpn-p6.mid',\n",
       " 'chpn-p22.mid',\n",
       " 'chpn_op35_2.mid',\n",
       " 'chpn-p21.mid',\n",
       " 'chpn_op10_e12.mid',\n",
       " 'chpn-p18.mid',\n",
       " 'chpn-p7.mid',\n",
       " 'chpn_op35_3.mid',\n",
       " 'chpn-p17.mid',\n",
       " 'chpn-p1.mid',\n",
       " 'chpn-p9.mid',\n",
       " 'chpn_op27_2.mid',\n",
       " 'chpn-p13.mid',\n",
       " 'chpn_op35_1.mid',\n",
       " 'chpn_op7_1.mid',\n",
       " 'chpn_op25_e4.mid',\n",
       " 'chpn_op27_1.mid',\n",
       " 'chpn-p15.mid',\n",
       " 'chpn-p4.mid',\n",
       " 'chpn-p23.mid',\n",
       " 'chpn_op35_4.mid',\n",
       " 'chpn-p24.mid',\n",
       " 'chpn_op25_e3.mid',\n",
       " 'chp_op31.mid',\n",
       " 'chopin.zip',\n",
       " 'chpn_op25_e2.mid',\n",
       " 'chpn_op66.mid',\n",
       " 'chpn-p2.mid',\n",
       " 'chp_op18.mid',\n",
       " 'chpn-p5.mid',\n",
       " 'chpn_op33_4.mid',\n",
       " 'chpn_op10_e01.mid',\n",
       " 'chpn_op53.mid',\n",
       " 'chpn-p19.mid',\n",
       " 'chpn-p20.mid',\n",
       " 'chpn-p3.mid',\n",
       " 'chpn_op33_2.mid',\n",
       " 'chpn_op25_e11.mid']"
      ]
     },
     "execution_count": 5,
     "metadata": {},
     "output_type": "execute_result"
    }
   ],
   "source": [
    "os.listdir('./raw_data')\n"
   ]
  },
  {
   "cell_type": "code",
   "execution_count": 3,
   "id": "e8259b7d",
   "metadata": {
    "executionInfo": {
     "elapsed": 11570,
     "status": "ok",
     "timestamp": 1669642117310,
     "user": {
      "displayName": "Jason Grieder",
      "userId": "14883558658845383466"
     },
     "user_tz": -60
    },
    "id": "e8259b7d"
   },
   "outputs": [
    {
     "name": "stderr",
     "output_type": "stream",
     "text": [
      "/home/bob/.pyenv/versions/3.10.6/envs/composer_electronifire/lib/python3.10/site-packages/music21/midi/translate.py:863: TranslateWarning: Unable to determine instrument from <music21.midi.MidiEvent SEQUENCE_TRACK_NAME, track=4, channel=None, data=b'Copyright \\xa9 2002 by Bernd Krueger'>; getting generic Instrument\n",
      "  warnings.warn(\n",
      "/home/bob/.pyenv/versions/3.10.6/envs/composer_electronifire/lib/python3.10/site-packages/music21/midi/translate.py:863: TranslateWarning: Unable to determine instrument from <music21.midi.MidiEvent SEQUENCE_TRACK_NAME, track=4, channel=None, data=b'Copyright \\xa9 2003 by Bernd Krueger'>; getting generic Instrument\n",
      "  warnings.warn(\n",
      "/home/bob/.pyenv/versions/3.10.6/envs/composer_electronifire/lib/python3.10/site-packages/music21/midi/translate.py:863: TranslateWarning: Unable to determine instrument from <music21.midi.MidiEvent SEQUENCE_TRACK_NAME, track=4, channel=None, data=b'Copyright \\xa9 1997 by Bernd Krueger'>; getting generic Instrument\n",
      "  warnings.warn(\n",
      "/home/bob/.pyenv/versions/3.10.6/envs/composer_electronifire/lib/python3.10/site-packages/music21/midi/translate.py:863: TranslateWarning: Unable to determine instrument from <music21.midi.MidiEvent SEQUENCE_TRACK_NAME, track=0, channel=None, data=b'Et\\xfcde Opus 10 No. 5'>; getting generic Instrument\n",
      "  warnings.warn(\n",
      "/home/bob/.pyenv/versions/3.10.6/envs/composer_electronifire/lib/python3.10/site-packages/music21/midi/translate.py:863: TranslateWarning: Unable to determine instrument from <music21.midi.MidiEvent SEQUENCE_TRACK_NAME, track=0, channel=None, data=b'Schwarze-Tasten-Et\\xfcde'>; getting generic Instrument\n",
      "  warnings.warn(\n",
      "/home/bob/.pyenv/versions/3.10.6/envs/composer_electronifire/lib/python3.10/site-packages/music21/midi/translate.py:863: TranslateWarning: Unable to determine instrument from <music21.midi.MidiEvent SEQUENCE_TRACK_NAME, track=4, channel=None, data=b'Copyright \\xa9 1999 by Bernd Kr\\xfcger'>; getting generic Instrument\n",
      "  warnings.warn(\n",
      "/home/bob/.pyenv/versions/3.10.6/envs/composer_electronifire/lib/python3.10/site-packages/music21/midi/translate.py:863: TranslateWarning: Unable to determine instrument from <music21.midi.MidiEvent SEQUENCE_TRACK_NAME, track=5, channel=None, data=b'Copyright \\xa9 1997 by Bernd Krueger'>; getting generic Instrument\n",
      "  warnings.warn(\n",
      "/home/bob/.pyenv/versions/3.10.6/envs/composer_electronifire/lib/python3.10/site-packages/music21/midi/translate.py:863: TranslateWarning: Unable to determine instrument from <music21.midi.MidiEvent SEQUENCE_TRACK_NAME, track=5, channel=None, data=b'Copyright \\xa9 2002 by Bernd Krueger'>; getting generic Instrument\n",
      "  warnings.warn(\n"
     ]
    },
    {
     "ename": "KeyError",
     "evalue": "140444798522016",
     "output_type": "error",
     "traceback": [
      "\u001b[0;31m---------------------------------------------------------------------------\u001b[0m",
      "\u001b[0;31mKeyError\u001b[0m                                  Traceback (most recent call last)",
      "Cell \u001b[0;32mIn [3], line 9\u001b[0m\n\u001b[1;32m      7\u001b[0m \u001b[38;5;28;01mif\u001b[39;00m i\u001b[38;5;241m.\u001b[39mendswith(\u001b[38;5;124m\"\u001b[39m\u001b[38;5;124m.mid\u001b[39m\u001b[38;5;124m\"\u001b[39m):\n\u001b[1;32m      8\u001b[0m     tr \u001b[38;5;241m=\u001b[39m os\u001b[38;5;241m.\u001b[39mpath\u001b[38;5;241m.\u001b[39mjoin(filepath, i)\n\u001b[0;32m----> 9\u001b[0m     midi \u001b[38;5;241m=\u001b[39m \u001b[43mconverter\u001b[49m\u001b[38;5;241;43m.\u001b[39;49m\u001b[43mparse\u001b[49m\u001b[43m(\u001b[49m\u001b[43mtr\u001b[49m\u001b[43m)\u001b[49m\n\u001b[1;32m     10\u001b[0m     all_midis\u001b[38;5;241m.\u001b[39mappend(midi)\n",
      "File \u001b[0;32m~/.pyenv/versions/3.10.6/envs/composer_electronifire/lib/python3.10/site-packages/music21/converter/__init__.py:1297\u001b[0m, in \u001b[0;36mparse\u001b[0;34m(value, forceSource, number, format, **keywords)\u001b[0m\n\u001b[1;32m   1294\u001b[0m     \u001b[38;5;28;01mreturn\u001b[39;00m parseData(value, number\u001b[38;5;241m=\u001b[39mnumber, \u001b[38;5;28mformat\u001b[39m\u001b[38;5;241m=\u001b[39m\u001b[38;5;28mformat\u001b[39m, \u001b[38;5;241m*\u001b[39m\u001b[38;5;241m*\u001b[39mkeywords)\n\u001b[1;32m   1295\u001b[0m \u001b[38;5;28;01melif\u001b[39;00m (\u001b[38;5;129;01mnot\u001b[39;00m \u001b[38;5;28misinstance\u001b[39m(value, \u001b[38;5;28mbytes\u001b[39m)\n\u001b[1;32m   1296\u001b[0m       \u001b[38;5;129;01mand\u001b[39;00m _osCanLoad(valueStr)):\n\u001b[0;32m-> 1297\u001b[0m     \u001b[38;5;28;01mreturn\u001b[39;00m \u001b[43mparseFile\u001b[49m\u001b[43m(\u001b[49m\u001b[43mvalueStr\u001b[49m\u001b[43m,\u001b[49m\u001b[43m \u001b[49m\u001b[43mnumber\u001b[49m\u001b[38;5;241;43m=\u001b[39;49m\u001b[43mnumber\u001b[49m\u001b[43m,\u001b[49m\u001b[43m \u001b[49m\u001b[38;5;28;43mformat\u001b[39;49m\u001b[38;5;241;43m=\u001b[39;49m\u001b[38;5;28;43mformat\u001b[39;49m\u001b[43m,\u001b[49m\n\u001b[1;32m   1298\u001b[0m \u001b[43m                     \u001b[49m\u001b[43mforceSource\u001b[49m\u001b[38;5;241;43m=\u001b[39;49m\u001b[43mforceSource\u001b[49m\u001b[43m,\u001b[49m\u001b[43m \u001b[49m\u001b[38;5;241;43m*\u001b[39;49m\u001b[38;5;241;43m*\u001b[39;49m\u001b[43mkeywords\u001b[49m\u001b[43m)\u001b[49m\n\u001b[1;32m   1299\u001b[0m \u001b[38;5;28;01melif\u001b[39;00m (\u001b[38;5;129;01mnot\u001b[39;00m \u001b[38;5;28misinstance\u001b[39m(value, \u001b[38;5;28mbytes\u001b[39m)\n\u001b[1;32m   1300\u001b[0m       \u001b[38;5;129;01mand\u001b[39;00m _osCanLoad(common\u001b[38;5;241m.\u001b[39mcleanpath(valueStr))):\n\u001b[1;32m   1301\u001b[0m     \u001b[38;5;28;01mreturn\u001b[39;00m parseFile(common\u001b[38;5;241m.\u001b[39mcleanpath(valueStr), number\u001b[38;5;241m=\u001b[39mnumber, \u001b[38;5;28mformat\u001b[39m\u001b[38;5;241m=\u001b[39m\u001b[38;5;28mformat\u001b[39m,\n\u001b[1;32m   1302\u001b[0m                      forceSource\u001b[38;5;241m=\u001b[39mforceSource, \u001b[38;5;241m*\u001b[39m\u001b[38;5;241m*\u001b[39mkeywords)\n",
      "File \u001b[0;32m~/.pyenv/versions/3.10.6/envs/composer_electronifire/lib/python3.10/site-packages/music21/converter/__init__.py:1151\u001b[0m, in \u001b[0;36mparseFile\u001b[0;34m(fp, number, format, forceSource, **keywords)\u001b[0m\n\u001b[1;32m   1149\u001b[0m v \u001b[38;5;241m=\u001b[39m Converter()\n\u001b[1;32m   1150\u001b[0m fp \u001b[38;5;241m=\u001b[39m common\u001b[38;5;241m.\u001b[39mcleanpath(fp, returnPathlib\u001b[38;5;241m=\u001b[39m\u001b[38;5;28;01mTrue\u001b[39;00m)\n\u001b[0;32m-> 1151\u001b[0m \u001b[43mv\u001b[49m\u001b[38;5;241;43m.\u001b[39;49m\u001b[43mparseFile\u001b[49m\u001b[43m(\u001b[49m\u001b[43mfp\u001b[49m\u001b[43m,\u001b[49m\u001b[43m \u001b[49m\u001b[43mnumber\u001b[49m\u001b[38;5;241;43m=\u001b[39;49m\u001b[43mnumber\u001b[49m\u001b[43m,\u001b[49m\u001b[43m \u001b[49m\u001b[38;5;28;43mformat\u001b[39;49m\u001b[38;5;241;43m=\u001b[39;49m\u001b[38;5;28;43mformat\u001b[39;49m\u001b[43m,\u001b[49m\u001b[43m \u001b[49m\u001b[43mforceSource\u001b[49m\u001b[38;5;241;43m=\u001b[39;49m\u001b[43mforceSource\u001b[49m\u001b[43m,\u001b[49m\u001b[43m \u001b[49m\u001b[38;5;241;43m*\u001b[39;49m\u001b[38;5;241;43m*\u001b[39;49m\u001b[43mkeywords\u001b[49m\u001b[43m)\u001b[49m\n\u001b[1;32m   1152\u001b[0m \u001b[38;5;28;01mif\u001b[39;00m t\u001b[38;5;241m.\u001b[39mTYPE_CHECKING:\n\u001b[1;32m   1153\u001b[0m     \u001b[38;5;28;01massert\u001b[39;00m \u001b[38;5;28misinstance\u001b[39m(v\u001b[38;5;241m.\u001b[39mstream, (stream\u001b[38;5;241m.\u001b[39mScore, stream\u001b[38;5;241m.\u001b[39mPart, stream\u001b[38;5;241m.\u001b[39mOpus))\n",
      "File \u001b[0;32m~/.pyenv/versions/3.10.6/envs/composer_electronifire/lib/python3.10/site-packages/music21/converter/__init__.py:621\u001b[0m, in \u001b[0;36mConverter.parseFile\u001b[0;34m(self, fp, number, format, forceSource, storePickle, **keywords)\u001b[0m\n\u001b[1;32m    619\u001b[0m \u001b[38;5;28;01melse\u001b[39;00m:\n\u001b[1;32m    620\u001b[0m     environLocal\u001b[38;5;241m.\u001b[39mprintDebug(\u001b[38;5;124m'\u001b[39m\u001b[38;5;124mLoading original version\u001b[39m\u001b[38;5;124m'\u001b[39m)\n\u001b[0;32m--> 621\u001b[0m     \u001b[38;5;28;43mself\u001b[39;49m\u001b[38;5;241;43m.\u001b[39;49m\u001b[43mparseFileNoPickle\u001b[49m\u001b[43m(\u001b[49m\u001b[43mfp\u001b[49m\u001b[43m,\u001b[49m\u001b[43m \u001b[49m\u001b[43mnumber\u001b[49m\u001b[43m,\u001b[49m\u001b[43m \u001b[49m\u001b[38;5;28;43mformat\u001b[39;49m\u001b[43m,\u001b[49m\u001b[43m \u001b[49m\u001b[43mforceSource\u001b[49m\u001b[43m,\u001b[49m\u001b[43m \u001b[49m\u001b[38;5;241;43m*\u001b[39;49m\u001b[38;5;241;43m*\u001b[39;49m\u001b[43mkeywords\u001b[49m\u001b[43m)\u001b[49m\n\u001b[1;32m    622\u001b[0m     \u001b[38;5;28;01mif\u001b[39;00m writePickle \u001b[38;5;129;01mis\u001b[39;00m \u001b[38;5;28;01mTrue\u001b[39;00m \u001b[38;5;129;01mand\u001b[39;00m fpPickle \u001b[38;5;129;01mis\u001b[39;00m \u001b[38;5;129;01mnot\u001b[39;00m \u001b[38;5;28;01mNone\u001b[39;00m \u001b[38;5;129;01mand\u001b[39;00m storePickle \u001b[38;5;129;01mis\u001b[39;00m \u001b[38;5;28;01mTrue\u001b[39;00m:\n\u001b[1;32m    623\u001b[0m         \u001b[38;5;66;03m# save the stream to disk...\u001b[39;00m\n\u001b[1;32m    624\u001b[0m         environLocal\u001b[38;5;241m.\u001b[39mprintDebug(\u001b[38;5;124m'\u001b[39m\u001b[38;5;124mFreezing Pickle\u001b[39m\u001b[38;5;124m'\u001b[39m)\n",
      "File \u001b[0;32m~/.pyenv/versions/3.10.6/envs/composer_electronifire/lib/python3.10/site-packages/music21/converter/__init__.py:543\u001b[0m, in \u001b[0;36mConverter.parseFileNoPickle\u001b[0;34m(self, fp, number, format, forceSource, **keywords)\u001b[0m\n\u001b[1;32m    541\u001b[0m \u001b[38;5;28mself\u001b[39m\u001b[38;5;241m.\u001b[39msubConverter\u001b[38;5;241m.\u001b[39mkeywords \u001b[38;5;241m=\u001b[39m keywords\n\u001b[1;32m    542\u001b[0m \u001b[38;5;28;01mtry\u001b[39;00m:\n\u001b[0;32m--> 543\u001b[0m     \u001b[38;5;28;43mself\u001b[39;49m\u001b[38;5;241;43m.\u001b[39;49m\u001b[43msubConverter\u001b[49m\u001b[38;5;241;43m.\u001b[39;49m\u001b[43mparseFile\u001b[49m\u001b[43m(\u001b[49m\n\u001b[1;32m    544\u001b[0m \u001b[43m        \u001b[49m\u001b[43mfp\u001b[49m\u001b[43m,\u001b[49m\n\u001b[1;32m    545\u001b[0m \u001b[43m        \u001b[49m\u001b[43mnumber\u001b[49m\u001b[38;5;241;43m=\u001b[39;49m\u001b[43mnumber\u001b[49m\u001b[43m,\u001b[49m\n\u001b[1;32m    546\u001b[0m \u001b[43m        \u001b[49m\u001b[38;5;241;43m*\u001b[39;49m\u001b[38;5;241;43m*\u001b[39;49m\u001b[43mkeywords\u001b[49m\n\u001b[1;32m    547\u001b[0m \u001b[43m    \u001b[49m\u001b[43m)\u001b[49m\n\u001b[1;32m    548\u001b[0m \u001b[38;5;28;01mexcept\u001b[39;00m \u001b[38;5;167;01mNotImplementedError\u001b[39;00m:\n\u001b[1;32m    549\u001b[0m     \u001b[38;5;28;01mraise\u001b[39;00m ConverterFileException(\u001b[38;5;124mf\u001b[39m\u001b[38;5;124m'\u001b[39m\u001b[38;5;124mFile is not in a correct format: \u001b[39m\u001b[38;5;132;01m{\u001b[39;00mfp\u001b[38;5;132;01m}\u001b[39;00m\u001b[38;5;124m'\u001b[39m)\n",
      "File \u001b[0;32m~/.pyenv/versions/3.10.6/envs/composer_electronifire/lib/python3.10/site-packages/music21/converter/subConverters.py:1203\u001b[0m, in \u001b[0;36mConverterMidi.parseFile\u001b[0;34m(self, filePath, number, **keywords)\u001b[0m\n\u001b[1;32m   1192\u001b[0m \u001b[38;5;124;03m'''\u001b[39;00m\n\u001b[1;32m   1193\u001b[0m \u001b[38;5;124;03mGet MIDI data from a file path.\u001b[39;00m\n\u001b[1;32m   1194\u001b[0m \n\u001b[0;32m   (...)\u001b[0m\n\u001b[1;32m   1200\u001b[0m \u001b[38;5;124;03min defaults.quantizationQuarterLengthDivisors. (Default: (4, 3)).\u001b[39;00m\n\u001b[1;32m   1201\u001b[0m \u001b[38;5;124;03m'''\u001b[39;00m\n\u001b[1;32m   1202\u001b[0m \u001b[38;5;28;01mfrom\u001b[39;00m \u001b[38;5;21;01mmusic21\u001b[39;00m\u001b[38;5;21;01m.\u001b[39;00m\u001b[38;5;21;01mmidi\u001b[39;00m \u001b[38;5;28;01mimport\u001b[39;00m translate \u001b[38;5;28;01mas\u001b[39;00m midiTranslate\n\u001b[0;32m-> 1203\u001b[0m \u001b[43mmidiTranslate\u001b[49m\u001b[38;5;241;43m.\u001b[39;49m\u001b[43mmidiFilePathToStream\u001b[49m\u001b[43m(\u001b[49m\u001b[43mfilePath\u001b[49m\u001b[43m,\u001b[49m\u001b[43m \u001b[49m\u001b[43minputM21\u001b[49m\u001b[38;5;241;43m=\u001b[39;49m\u001b[38;5;28;43mself\u001b[39;49m\u001b[38;5;241;43m.\u001b[39;49m\u001b[43mstream\u001b[49m\u001b[43m,\u001b[49m\u001b[43m \u001b[49m\u001b[38;5;241;43m*\u001b[39;49m\u001b[38;5;241;43m*\u001b[39;49m\u001b[43mkeywords\u001b[49m\u001b[43m)\u001b[49m\n",
      "File \u001b[0;32m~/.pyenv/versions/3.10.6/envs/composer_electronifire/lib/python3.10/site-packages/music21/midi/translate.py:2705\u001b[0m, in \u001b[0;36mmidiFilePathToStream\u001b[0;34m(filePath, inputM21, **keywords)\u001b[0m\n\u001b[1;32m   2703\u001b[0m mf\u001b[38;5;241m.\u001b[39mread()\n\u001b[1;32m   2704\u001b[0m mf\u001b[38;5;241m.\u001b[39mclose()\n\u001b[0;32m-> 2705\u001b[0m \u001b[38;5;28;01mreturn\u001b[39;00m \u001b[43mmidiFileToStream\u001b[49m\u001b[43m(\u001b[49m\u001b[43mmf\u001b[49m\u001b[43m,\u001b[49m\u001b[43m \u001b[49m\u001b[43minputM21\u001b[49m\u001b[38;5;241;43m=\u001b[39;49m\u001b[43minputM21\u001b[49m\u001b[43m,\u001b[49m\u001b[43m \u001b[49m\u001b[38;5;241;43m*\u001b[39;49m\u001b[38;5;241;43m*\u001b[39;49m\u001b[43mkeywords\u001b[49m\u001b[43m)\u001b[49m\n",
      "File \u001b[0;32m~/.pyenv/versions/3.10.6/envs/composer_electronifire/lib/python3.10/site-packages/music21/midi/translate.py:2876\u001b[0m, in \u001b[0;36mmidiFileToStream\u001b[0;34m(mf, inputM21, quantizePost, **keywords)\u001b[0m\n\u001b[1;32m   2872\u001b[0m     \u001b[38;5;28;01mraise\u001b[39;00m exceptions21\u001b[38;5;241m.\u001b[39mStreamException(\u001b[38;5;124m'\u001b[39m\u001b[38;5;124mno tracks are defined in this MIDI file.\u001b[39m\u001b[38;5;124m'\u001b[39m)\n\u001b[1;32m   2874\u001b[0m \u001b[38;5;66;03m# create a stream for each track\u001b[39;00m\n\u001b[1;32m   2875\u001b[0m \u001b[38;5;66;03m# may need to check if tracks actually have event data\u001b[39;00m\n\u001b[0;32m-> 2876\u001b[0m \u001b[43mmidiTracksToStreams\u001b[49m\u001b[43m(\u001b[49m\u001b[43mmf\u001b[49m\u001b[38;5;241;43m.\u001b[39;49m\u001b[43mtracks\u001b[49m\u001b[43m,\u001b[49m\n\u001b[1;32m   2877\u001b[0m \u001b[43m                    \u001b[49m\u001b[43mticksPerQuarter\u001b[49m\u001b[38;5;241;43m=\u001b[39;49m\u001b[43mmf\u001b[49m\u001b[38;5;241;43m.\u001b[39;49m\u001b[43mticksPerQuarterNote\u001b[49m\u001b[43m,\u001b[49m\n\u001b[1;32m   2878\u001b[0m \u001b[43m                    \u001b[49m\u001b[43mquantizePost\u001b[49m\u001b[38;5;241;43m=\u001b[39;49m\u001b[43mquantizePost\u001b[49m\u001b[43m,\u001b[49m\n\u001b[1;32m   2879\u001b[0m \u001b[43m                    \u001b[49m\u001b[43minputM21\u001b[49m\u001b[38;5;241;43m=\u001b[39;49m\u001b[43ms\u001b[49m\u001b[43m,\u001b[49m\n\u001b[1;32m   2880\u001b[0m \u001b[43m                    \u001b[49m\u001b[38;5;241;43m*\u001b[39;49m\u001b[38;5;241;43m*\u001b[39;49m\u001b[43mkeywords\u001b[49m\u001b[43m)\u001b[49m\n\u001b[1;32m   2881\u001b[0m \u001b[38;5;66;03m# s._setMidiTracks(mf.tracks, mf.ticksPerQuarterNote)\u001b[39;00m\n\u001b[1;32m   2883\u001b[0m \u001b[38;5;28;01mreturn\u001b[39;00m s\n",
      "File \u001b[0;32m~/.pyenv/versions/3.10.6/envs/composer_electronifire/lib/python3.10/site-packages/music21/midi/translate.py:2613\u001b[0m, in \u001b[0;36mmidiTracksToStreams\u001b[0;34m(midiTracks, ticksPerQuarter, quantizePost, inputM21, **keywords)\u001b[0m\n\u001b[1;32m   2610\u001b[0m     \u001b[38;5;28;01melse\u001b[39;00m:\n\u001b[1;32m   2611\u001b[0m         streamPart \u001b[38;5;241m=\u001b[39m conductorPart\n\u001b[0;32m-> 2613\u001b[0m     \u001b[43mmidiTrackToStream\u001b[49m\u001b[43m(\u001b[49m\u001b[43mmt\u001b[49m\u001b[43m,\u001b[49m\n\u001b[1;32m   2614\u001b[0m \u001b[43m                      \u001b[49m\u001b[43mticksPerQuarter\u001b[49m\u001b[38;5;241;43m=\u001b[39;49m\u001b[43mticksPerQuarter\u001b[49m\u001b[43m,\u001b[49m\n\u001b[1;32m   2615\u001b[0m \u001b[43m                      \u001b[49m\u001b[43mquantizePost\u001b[49m\u001b[38;5;241;43m=\u001b[39;49m\u001b[43mquantizePost\u001b[49m\u001b[43m,\u001b[49m\n\u001b[1;32m   2616\u001b[0m \u001b[43m                      \u001b[49m\u001b[43minputM21\u001b[49m\u001b[38;5;241;43m=\u001b[39;49m\u001b[43mstreamPart\u001b[49m\u001b[43m,\u001b[49m\n\u001b[1;32m   2617\u001b[0m \u001b[43m                      \u001b[49m\u001b[43mconductorPart\u001b[49m\u001b[38;5;241;43m=\u001b[39;49m\u001b[43mconductorPart\u001b[49m\u001b[43m,\u001b[49m\n\u001b[1;32m   2618\u001b[0m \u001b[43m                      \u001b[49m\u001b[43misFirst\u001b[49m\u001b[38;5;241;43m=\u001b[39;49m\u001b[43m(\u001b[49m\u001b[43mmt\u001b[49m\u001b[43m \u001b[49m\u001b[38;5;129;43;01mis\u001b[39;49;00m\u001b[43m \u001b[49m\u001b[43mfirstTrackWithNotes\u001b[49m\u001b[43m)\u001b[49m\u001b[43m,\u001b[49m\n\u001b[1;32m   2619\u001b[0m \u001b[43m                      \u001b[49m\u001b[38;5;241;43m*\u001b[39;49m\u001b[38;5;241;43m*\u001b[39;49m\u001b[43mkeywords\u001b[49m\u001b[43m)\u001b[49m\n\u001b[1;32m   2621\u001b[0m \u001b[38;5;28;01mreturn\u001b[39;00m s\n",
      "File \u001b[0;32m~/.pyenv/versions/3.10.6/envs/composer_electronifire/lib/python3.10/site-packages/music21/midi/translate.py:2091\u001b[0m, in \u001b[0;36mmidiTrackToStream\u001b[0;34m(mt, ticksPerQuarter, quantizePost, inputM21, conductorPart, isFirst, quarterLengthDivisors, **keywords)\u001b[0m\n\u001b[1;32m   2088\u001b[0m     \u001b[38;5;28;01mfor\u001b[39;00m m \u001b[38;5;129;01min\u001b[39;00m s\u001b[38;5;241m.\u001b[39mgetElementsByClass(stream\u001b[38;5;241m.\u001b[39mMeasure):\n\u001b[1;32m   2089\u001b[0m         \u001b[38;5;66;03m# Gaps will be filled by makeRests, below, which now recurses\u001b[39;00m\n\u001b[1;32m   2090\u001b[0m         m\u001b[38;5;241m.\u001b[39mmakeVoices(inPlace\u001b[38;5;241m=\u001b[39m\u001b[38;5;28;01mTrue\u001b[39;00m, fillGaps\u001b[38;5;241m=\u001b[39m\u001b[38;5;28;01mFalse\u001b[39;00m)\n\u001b[0;32m-> 2091\u001b[0m \u001b[43ms\u001b[49m\u001b[38;5;241;43m.\u001b[39;49m\u001b[43mmakeTies\u001b[49m\u001b[43m(\u001b[49m\u001b[43minPlace\u001b[49m\u001b[38;5;241;43m=\u001b[39;49m\u001b[38;5;28;43;01mTrue\u001b[39;49;00m\u001b[43m)\u001b[49m\n\u001b[1;32m   2092\u001b[0m \u001b[38;5;66;03m# always need to fill gaps, as rests are not found in any other way\u001b[39;00m\n\u001b[1;32m   2093\u001b[0m s\u001b[38;5;241m.\u001b[39mmakeRests(inPlace\u001b[38;5;241m=\u001b[39m\u001b[38;5;28;01mTrue\u001b[39;00m, fillGaps\u001b[38;5;241m=\u001b[39m\u001b[38;5;28;01mTrue\u001b[39;00m, timeRangeFromBarDuration\u001b[38;5;241m=\u001b[39m\u001b[38;5;28;01mTrue\u001b[39;00m)\n",
      "File \u001b[0;32m~/.pyenv/versions/3.10.6/envs/composer_electronifire/lib/python3.10/site-packages/music21/stream/base.py:6499\u001b[0m, in \u001b[0;36mStream.makeTies\u001b[0;34m(self, meterStream, inPlace, displayTiedAccidentals, classFilterList)\u001b[0m\n\u001b[1;32m   6487\u001b[0m \u001b[38;5;28;01mdef\u001b[39;00m \u001b[38;5;21mmakeTies\u001b[39m(\u001b[38;5;28mself\u001b[39m,\n\u001b[1;32m   6488\u001b[0m              meterStream\u001b[38;5;241m=\u001b[39m\u001b[38;5;28;01mNone\u001b[39;00m,\n\u001b[1;32m   6489\u001b[0m              inPlace\u001b[38;5;241m=\u001b[39m\u001b[38;5;28;01mFalse\u001b[39;00m,\n\u001b[1;32m   6490\u001b[0m              displayTiedAccidentals\u001b[38;5;241m=\u001b[39m\u001b[38;5;28;01mFalse\u001b[39;00m,\n\u001b[1;32m   6491\u001b[0m              classFilterList\u001b[38;5;241m=\u001b[39m(note\u001b[38;5;241m.\u001b[39mGeneralNote,),\n\u001b[1;32m   6492\u001b[0m              ):\n\u001b[1;32m   6493\u001b[0m     \u001b[38;5;124;03m'''\u001b[39;00m\n\u001b[1;32m   6494\u001b[0m \u001b[38;5;124;03m    Calls :py:func:`~music21.stream.makeNotation.makeTies`.\u001b[39;00m\n\u001b[1;32m   6495\u001b[0m \n\u001b[1;32m   6496\u001b[0m \u001b[38;5;124;03m    Changed in v.4., inPlace=False by default.\u001b[39;00m\n\u001b[1;32m   6497\u001b[0m \u001b[38;5;124;03m    Added in v.7, `classFilterList`.\u001b[39;00m\n\u001b[1;32m   6498\u001b[0m \u001b[38;5;124;03m    '''\u001b[39;00m\n\u001b[0;32m-> 6499\u001b[0m     \u001b[38;5;28;01mreturn\u001b[39;00m \u001b[43mmakeNotation\u001b[49m\u001b[38;5;241;43m.\u001b[39;49m\u001b[43mmakeTies\u001b[49m\u001b[43m(\u001b[49m\n\u001b[1;32m   6500\u001b[0m \u001b[43m        \u001b[49m\u001b[38;5;28;43mself\u001b[39;49m\u001b[43m,\u001b[49m\n\u001b[1;32m   6501\u001b[0m \u001b[43m        \u001b[49m\u001b[43mmeterStream\u001b[49m\u001b[38;5;241;43m=\u001b[39;49m\u001b[43mmeterStream\u001b[49m\u001b[43m,\u001b[49m\n\u001b[1;32m   6502\u001b[0m \u001b[43m        \u001b[49m\u001b[43minPlace\u001b[49m\u001b[38;5;241;43m=\u001b[39;49m\u001b[43minPlace\u001b[49m\u001b[43m,\u001b[49m\n\u001b[1;32m   6503\u001b[0m \u001b[43m        \u001b[49m\u001b[43mdisplayTiedAccidentals\u001b[49m\u001b[38;5;241;43m=\u001b[39;49m\u001b[43mdisplayTiedAccidentals\u001b[49m\u001b[43m,\u001b[49m\n\u001b[1;32m   6504\u001b[0m \u001b[43m        \u001b[49m\u001b[43mclassFilterList\u001b[49m\u001b[38;5;241;43m=\u001b[39;49m\u001b[43mclassFilterList\u001b[49m\u001b[43m,\u001b[49m\n\u001b[1;32m   6505\u001b[0m \u001b[43m    \u001b[49m\u001b[43m)\u001b[49m\n",
      "File \u001b[0;32m~/.pyenv/versions/3.10.6/envs/composer_electronifire/lib/python3.10/site-packages/music21/stream/makeNotation.py:1312\u001b[0m, in \u001b[0;36mmakeTies\u001b[0;34m(s, meterStream, inPlace, displayTiedAccidentals, classFilterList)\u001b[0m\n\u001b[1;32m   1307\u001b[0m     dst \u001b[38;5;241m=\u001b[39m mNext\n\u001b[1;32m   1309\u001b[0m \u001b[38;5;66;03m# mNext.coreSelfActiveSite(eRemain)\u001b[39;00m\n\u001b[1;32m   1310\u001b[0m \u001b[38;5;66;03m# manually set activeSite\u001b[39;00m\n\u001b[1;32m   1311\u001b[0m \u001b[38;5;66;03m# cannot use coreInsert here\u001b[39;00m\n\u001b[0;32m-> 1312\u001b[0m \u001b[43mdst\u001b[49m\u001b[38;5;241;43m.\u001b[39;49m\u001b[43minsert\u001b[49m\u001b[43m(\u001b[49m\u001b[38;5;241;43m0\u001b[39;49m\u001b[43m,\u001b[49m\u001b[43m \u001b[49m\u001b[43meRemain\u001b[49m\u001b[43m)\u001b[49m\n\u001b[1;32m   1314\u001b[0m \u001b[38;5;66;03m# we are not sure that this element fits\u001b[39;00m\n\u001b[1;32m   1315\u001b[0m \u001b[38;5;66;03m# completely in the next measure, thus, need to\u001b[39;00m\n\u001b[1;32m   1316\u001b[0m \u001b[38;5;66;03m# continue processing each measure\u001b[39;00m\n\u001b[1;32m   1317\u001b[0m \u001b[38;5;28;01mif\u001b[39;00m mNextAdd:\n\u001b[1;32m   1318\u001b[0m     \u001b[38;5;66;03m# environLocal.printDebug([\u001b[39;00m\n\u001b[1;32m   1319\u001b[0m     \u001b[38;5;66;03m#    'makeTies() inserting mNext into returnObj',\u001b[39;00m\n\u001b[1;32m   1320\u001b[0m     \u001b[38;5;66;03m#    mNext])\u001b[39;00m\n",
      "File \u001b[0;32m~/.pyenv/versions/3.10.6/envs/composer_electronifire/lib/python3.10/site-packages/music21/stream/base.py:2257\u001b[0m, in \u001b[0;36mStream.insert\u001b[0;34m(self, offsetOrItemOrList, itemOrNone, ignoreSort, setActiveSite)\u001b[0m\n\u001b[1;32m   2254\u001b[0m \u001b[38;5;28mself\u001b[39m\u001b[38;5;241m.\u001b[39mcoreGuardBeforeAddElement(element)\n\u001b[1;32m   2255\u001b[0m \u001b[38;5;66;03m# main insert procedure here\u001b[39;00m\n\u001b[0;32m-> 2257\u001b[0m storeSorted \u001b[38;5;241m=\u001b[39m \u001b[38;5;28;43mself\u001b[39;49m\u001b[38;5;241;43m.\u001b[39;49m\u001b[43mcoreInsert\u001b[49m\u001b[43m(\u001b[49m\u001b[43moffset\u001b[49m\u001b[43m,\u001b[49m\n\u001b[1;32m   2258\u001b[0m \u001b[43m                              \u001b[49m\u001b[43melement\u001b[49m\u001b[43m,\u001b[49m\n\u001b[1;32m   2259\u001b[0m \u001b[43m                              \u001b[49m\u001b[43mignoreSort\u001b[49m\u001b[38;5;241;43m=\u001b[39;49m\u001b[43mignoreSort\u001b[49m\u001b[43m,\u001b[49m\n\u001b[1;32m   2260\u001b[0m \u001b[43m                              \u001b[49m\u001b[43msetActiveSite\u001b[49m\u001b[38;5;241;43m=\u001b[39;49m\u001b[43msetActiveSite\u001b[49m\u001b[43m)\u001b[49m\n\u001b[1;32m   2261\u001b[0m updateIsFlat \u001b[38;5;241m=\u001b[39m \u001b[38;5;28;01mFalse\u001b[39;00m\n\u001b[1;32m   2262\u001b[0m \u001b[38;5;28;01mif\u001b[39;00m element\u001b[38;5;241m.\u001b[39misStream:\n",
      "File \u001b[0;32m~/.pyenv/versions/3.10.6/envs/composer_electronifire/lib/python3.10/site-packages/music21/stream/core.py:111\u001b[0m, in \u001b[0;36mStreamCore.coreInsert\u001b[0;34m(self, offset, element, ignoreSort, setActiveSite)\u001b[0m\n\u001b[1;32m    109\u001b[0m \u001b[38;5;28;01melse\u001b[39;00m:\n\u001b[1;32m    110\u001b[0m     highestSortTuple \u001b[38;5;241m=\u001b[39m \u001b[38;5;28mself\u001b[39m\u001b[38;5;241m.\u001b[39m_elements[\u001b[38;5;241m-\u001b[39m\u001b[38;5;241m1\u001b[39m]\u001b[38;5;241m.\u001b[39msortTuple()\n\u001b[0;32m--> 111\u001b[0m     thisSortTuple \u001b[38;5;241m=\u001b[39m \u001b[43melement\u001b[49m\u001b[38;5;241;43m.\u001b[39;49m\u001b[43msortTuple\u001b[49m\u001b[43m(\u001b[49m\u001b[43m)\u001b[49m\u001b[38;5;241m.\u001b[39mmodify(offset\u001b[38;5;241m=\u001b[39moffset)\n\u001b[1;32m    113\u001b[0m     \u001b[38;5;28;01mif\u001b[39;00m highestSortTuple \u001b[38;5;241m<\u001b[39m thisSortTuple:\n\u001b[1;32m    114\u001b[0m         storeSorted \u001b[38;5;241m=\u001b[39m \u001b[38;5;28;01mTrue\u001b[39;00m\n",
      "File \u001b[0;32m~/.pyenv/versions/3.10.6/envs/composer_electronifire/lib/python3.10/site-packages/music21/base.py:2672\u001b[0m, in \u001b[0;36mMusic21Object.sortTuple\u001b[0;34m(self, useSite, raiseExceptionOnMiss)\u001b[0m\n\u001b[1;32m   2670\u001b[0m     insertIndex \u001b[38;5;241m=\u001b[39m \u001b[38;5;28mself\u001b[39m\u001b[38;5;241m.\u001b[39msites\u001b[38;5;241m.\u001b[39msiteDict[\u001b[38;5;28mid\u001b[39m(useSite)]\u001b[38;5;241m.\u001b[39mglobalSiteIndex\n\u001b[1;32m   2671\u001b[0m \u001b[38;5;28;01melif\u001b[39;00m \u001b[38;5;28mself\u001b[39m\u001b[38;5;241m.\u001b[39mactiveSite \u001b[38;5;129;01mis\u001b[39;00m \u001b[38;5;129;01mnot\u001b[39;00m \u001b[38;5;28;01mNone\u001b[39;00m:\n\u001b[0;32m-> 2672\u001b[0m     insertIndex \u001b[38;5;241m=\u001b[39m \u001b[38;5;28;43mself\u001b[39;49m\u001b[38;5;241;43m.\u001b[39;49m\u001b[43msites\u001b[49m\u001b[38;5;241;43m.\u001b[39;49m\u001b[43msiteDict\u001b[49m\u001b[43m[\u001b[49m\u001b[38;5;28;43mid\u001b[39;49m\u001b[43m(\u001b[49m\u001b[38;5;28;43mself\u001b[39;49m\u001b[38;5;241;43m.\u001b[39;49m\u001b[43mactiveSite\u001b[49m\u001b[43m)\u001b[49m\u001b[43m]\u001b[49m\u001b[38;5;241m.\u001b[39mglobalSiteIndex\n\u001b[1;32m   2673\u001b[0m \u001b[38;5;28;01melse\u001b[39;00m:  \u001b[38;5;66;03m# for None, use this instead of default of -2.\u001b[39;00m\n\u001b[1;32m   2674\u001b[0m     insertIndex \u001b[38;5;241m=\u001b[39m \u001b[38;5;241m0\u001b[39m\n",
      "\u001b[0;31mKeyError\u001b[0m: 140444798522016"
     ]
    }
   ],
   "source": [
    "#Loading the list of chopin's midi files as stream \n",
    "#filepath = os.path.join(\"code\", \"Kulle77\", \"Karlobyo\", \"composer_electronifire\", \"raw_data\")\n",
    "#Getting midi files\n",
    "filepath = './raw_data'\n",
    "all_midis= []\n",
    "for i in os.listdir('./raw_data'):\n",
    "    if i.endswith(\".mid\"):\n",
    "        tr = os.path.join(filepath, i)\n",
    "        midi = converter.parse(tr)\n",
    "        all_midis.append(midi)"
   ]
  },
  {
   "cell_type": "code",
   "execution_count": 4,
   "id": "vWQsp9-CZf9R",
   "metadata": {
    "colab": {
     "base_uri": "https://localhost:8080/"
    },
    "executionInfo": {
     "elapsed": 14592,
     "status": "ok",
     "timestamp": 1669642131886,
     "user": {
      "displayName": "Jason Grieder",
      "userId": "14883558658845383466"
     },
     "user_tz": -60
    },
    "id": "vWQsp9-CZf9R",
    "outputId": "eafaba5d-a5c2-4738-b5d3-42df4ae09f84"
   },
   "outputs": [
    {
     "name": "stdout",
     "output_type": "stream",
     "text": [
      "Total notes in all the Chopin midis in the dataset: 13478\n"
     ]
    }
   ],
   "source": [
    "#Helping function        \n",
    "def extract_notes(file):\n",
    "    notes = []\n",
    "    pick = None\n",
    "    for j in file:\n",
    "        songs = instrument.partitionByInstrument(j)\n",
    "        for part in songs.parts:\n",
    "            pick = part.recurse()\n",
    "            for element in pick:\n",
    "                if isinstance(element, note.Note):\n",
    "                    notes.append(str(element.pitch))\n",
    "                elif isinstance(element, chord.Chord):\n",
    "                    notes.append(\".\".join(str(n) for n in element.normalOrder))\n",
    "\n",
    "    return notes\n",
    "#Getting the list of notes as Corpus\n",
    "Corpus= extract_notes(all_midis)\n",
    "print(\"Total notes in all the Chopin midis in the dataset:\", len(Corpus))"
   ]
  },
  {
   "cell_type": "code",
   "execution_count": 38,
   "id": "kyGP6mL5aZdL",
   "metadata": {
    "executionInfo": {
     "elapsed": 11,
     "status": "ok",
     "timestamp": 1669642131887,
     "user": {
      "displayName": "Jason Grieder",
      "userId": "14883558658845383466"
     },
     "user_tz": -60
    },
    "id": "kyGP6mL5aZdL"
   },
   "outputs": [
    {
     "data": {
      "text/plain": [
       "['11.3.4', '3.8', '11.4', '8', 'F4', '11.3.5', '3', 'F#4', '11.3.6', '3.8']"
      ]
     },
     "execution_count": 38,
     "metadata": {},
     "output_type": "execute_result"
    }
   ],
   "source": [
    "Corpus[:10]\n"
   ]
  },
  {
   "cell_type": "markdown",
   "id": "sdXyWhQgaw7y",
   "metadata": {
    "id": "sdXyWhQgaw7y"
   },
   "source": [
    "##Data exploration"
   ]
  },
  {
   "cell_type": "code",
   "execution_count": 5,
   "id": "KWW2nZUWa03K",
   "metadata": {
    "colab": {
     "base_uri": "https://localhost:8080/"
    },
    "executionInfo": {
     "elapsed": 455,
     "status": "ok",
     "timestamp": 1669645602194,
     "user": {
      "displayName": "Jason Grieder",
      "userId": "14883558658845383466"
     },
     "user_tz": -60
    },
    "id": "KWW2nZUWa03K",
    "outputId": "722ebab5-f022-4d0e-d4f5-ee5a565aaaa5"
   },
   "outputs": [
    {
     "name": "stdout",
     "output_type": "stream",
     "text": [
      "Total unique notes in the Corpus: 265\n"
     ]
    }
   ],
   "source": [
    "count_num = Counter(Corpus)\n",
    "print(\"Total unique notes in the Corpus:\", len(count_num))"
   ]
  },
  {
   "cell_type": "code",
   "execution_count": 6,
   "id": "LKN7n_UEa8xC",
   "metadata": {
    "colab": {
     "base_uri": "https://localhost:8080/"
    },
    "executionInfo": {
     "elapsed": 17,
     "status": "ok",
     "timestamp": 1669645602838,
     "user": {
      "displayName": "Jason Grieder",
      "userId": "14883558658845383466"
     },
     "user_tz": -60
    },
    "id": "LKN7n_UEa8xC",
    "outputId": "7e263ead-04da-4249-de4d-85d3d9534481"
   },
   "outputs": [
    {
     "name": "stdout",
     "output_type": "stream",
     "text": [
      "Average recurrence for a note in Corpus: 50.86037735849057\n",
      "Most frequent note in Corpus appeared: 350 times\n",
      "Least frequent note in Corpus appeared: 1 time\n"
     ]
    }
   ],
   "source": [
    "#Exploring the notes dictionary\n",
    "Notes = list(count_num.keys())\n",
    "Recurrence = list(count_num.values())\n",
    "#Average recurrenc for a note in Corpus\n",
    "def Average(lst):\n",
    "    return sum(lst) / len(lst)\n",
    "print(\"Average recurrence for a note in Corpus:\", Average(Recurrence))\n",
    "print(\"Most frequent note in Corpus appeared:\", max(Recurrence), \"times\")\n",
    "print(\"Least frequent note in Corpus appeared:\", min(Recurrence), \"time\")"
   ]
  },
  {
   "cell_type": "code",
   "execution_count": 7,
   "id": "W3UGhq7-bCu-",
   "metadata": {
    "colab": {
     "base_uri": "https://localhost:8080/",
     "height": 239
    },
    "executionInfo": {
     "elapsed": 15,
     "status": "ok",
     "timestamp": 1669645602838,
     "user": {
      "displayName": "Jason Grieder",
      "userId": "14883558658845383466"
     },
     "user_tz": -60
    },
    "id": "W3UGhq7-bCu-",
    "outputId": "f460138b-8ce9-4060-f00f-3e1cba008b6d"
   },
   "outputs": [
    {
     "data": {
      "image/png": "[encoded data removed]",
      "text/plain": [
       "<Figure size 1800x300 with 1 Axes>"
      ]
     },
     "metadata": {
      "image/png": {
       "height": 315,
       "width": 1470
      }
     },
     "output_type": "display_data"
    }
   ],
   "source": [
    "# Plotting the distribution of Notes\n",
    "plt.figure(figsize=(18,3))\n",
    "bins = np.arange(0,(max(Recurrence)), 25) \n",
    "plt.hist(Recurrence, bins=bins)\n",
    "plt.title(\"Frequency Distribution Of Notes In The Corpus\")\n",
    "plt.xlabel(\"Frequency Of Chords in Corpus\")\n",
    "plt.ylabel(\"Number Of Chords\")\n",
    "plt.show()"
   ]
  },
  {
   "cell_type": "code",
   "execution_count": 8,
   "id": "MxO_j7jUc6BL",
   "metadata": {
    "colab": {
     "base_uri": "https://localhost:8080/"
    },
    "executionInfo": {
     "elapsed": 12,
     "status": "ok",
     "timestamp": 1669645602839,
     "user": {
      "displayName": "Jason Grieder",
      "userId": "14883558658845383466"
     },
     "user_tz": -60
    },
    "id": "MxO_j7jUc6BL",
    "outputId": "9791ae72-6b4b-4085-edfc-7145207bf9d5"
   },
   "outputs": [
    {
     "name": "stdout",
     "output_type": "stream",
     "text": [
      "Total number of notes that occur less than 100 times: 221\n"
     ]
    }
   ],
   "source": [
    "#Getting a list of rare chords\n",
    "rare_notes = []\n",
    "for index, (key, value) in enumerate(count_num.items()):\n",
    "    if value < 100:\n",
    "        rare_notes.append(key)\n",
    "        \n",
    "print(\"Total number of notes that occur less than 100 times:\", len(rare_notes))"
   ]
  },
  {
   "cell_type": "code",
   "execution_count": 38,
   "id": "STVYaK8Qeype",
   "metadata": {
    "colab": {
     "base_uri": "https://localhost:8080/"
    },
    "executionInfo": {
     "elapsed": 757,
     "status": "ok",
     "timestamp": 1669645603585,
     "user": {
      "displayName": "Jason Grieder",
      "userId": "14883558658845383466"
     },
     "user_tz": -60
    },
    "id": "STVYaK8Qeype",
    "outputId": "8c78cc27-74bd-436d-d4ce-69d9564ffe5a"
   },
   "outputs": [
    {
     "name": "stdout",
     "output_type": "stream",
     "text": [
      "Length of Corpus after elemination of the rare notes: 59426\n"
     ]
    }
   ],
   "source": [
    "#Eleminating the rare notes\n",
    "for element in Corpus:\n",
    "    if element in rare_notes:\n",
    "        Corpus.remove(element)\n",
    "\n",
    "print(\"Length of Corpus after elemination of the rare notes:\", len(Corpus))"
   ]
  },
  {
   "cell_type": "code",
   "execution_count": 38,
   "id": "jqbZ1akKgwCw",
   "metadata": {
    "executionInfo": {
     "elapsed": 4,
     "status": "ok",
     "timestamp": 1669645603585,
     "user": {
      "displayName": "Jason Grieder",
      "userId": "14883558658845383466"
     },
     "user_tz": -60
    },
    "id": "jqbZ1akKgwCw"
   },
   "outputs": [],
   "source": []
  },
  {
   "cell_type": "markdown",
   "id": "Zq0ZciVegwsr",
   "metadata": {
    "id": "Zq0ZciVegwsr"
   },
   "source": [
    "## Preprocessing"
   ]
  },
  {
   "cell_type": "code",
   "execution_count": 9,
   "id": "Gnu6hFlZfHGq",
   "metadata": {
    "executionInfo": {
     "elapsed": 459,
     "status": "ok",
     "timestamp": 1669644662471,
     "user": {
      "displayName": "Jason Grieder",
      "userId": "14883558658845383466"
     },
     "user_tz": -60
    },
    "id": "Gnu6hFlZfHGq"
   },
   "outputs": [],
   "source": [
    "# functions\n",
    "def note_transformer(note_list, seq_length=40):\n",
    "  \"\"\"Function which takes a list of musical notes, \n",
    "  and returns numpy arrays of X and y where X contains \n",
    "  encoded sequences of these notes, and y corresponds \n",
    "  to the seq_length following notes of that sequence\"\"\"\n",
    "\n",
    "  symb = sorted(list(set(note_list)))\n",
    "\n",
    "  mapping = dict((c, i) for i, c in enumerate(symb))\n",
    "  reverse_mapping = dict((i, c) for i, c in enumerate(symb))\n",
    "\n",
    "  length = seq_length\n",
    "  features = []\n",
    "  targets = []\n",
    "  for i in range(0, len(note_list) - length, 1):\n",
    "    feature = Corpus[i:i + length]\n",
    "    target = Corpus[i + length]\n",
    "    features.append([mapping[j] for j in feature])\n",
    "    targets.append(mapping[target])\n",
    "  \n",
    "  X = (np.reshape(features, (len(targets), length, 1)))/ float(len(symb))\n",
    "  y = tensorflow.keras.utils.to_categorical(targets) \n",
    "\n",
    "  return X, y\n",
    "  "
   ]
  },
  {
   "cell_type": "code",
   "execution_count": 10,
   "id": "p6aQozqrgqTm",
   "metadata": {
    "executionInfo": {
     "elapsed": 857,
     "status": "ok",
     "timestamp": 1669644667754,
     "user": {
      "displayName": "Jason Grieder",
      "userId": "14883558658845383466"
     },
     "user_tz": -60
    },
    "id": "p6aQozqrgqTm"
   },
   "outputs": [],
   "source": [
    "X, y = note_transformer(Corpus)"
   ]
  },
  {
   "cell_type": "code",
   "execution_count": 11,
   "id": "z6F0xdkckuD8",
   "metadata": {
    "colab": {
     "base_uri": "https://localhost:8080/"
    },
    "executionInfo": {
     "elapsed": 769,
     "status": "ok",
     "timestamp": 1669644678583,
     "user": {
      "displayName": "Jason Grieder",
      "userId": "14883558658845383466"
     },
     "user_tz": -60
    },
    "id": "z6F0xdkckuD8",
    "outputId": "0edaf749-e65d-4221-d60e-3a759ddc11af"
   },
   "outputs": [
    {
     "data": {
      "text/plain": [
       "(13438, 40, 1)"
      ]
     },
     "execution_count": 11,
     "metadata": {},
     "output_type": "execute_result"
    }
   ],
   "source": [
    "X.shape"
   ]
  },
  {
   "cell_type": "code",
   "execution_count": 15,
   "id": "a00ef9dd",
   "metadata": {},
   "outputs": [],
   "source": [
    "rs_X = X.reshape(13438, 40)"
   ]
  },
  {
   "cell_type": "code",
   "execution_count": 16,
   "id": "7abe8473",
   "metadata": {},
   "outputs": [
    {
     "data": {
      "text/plain": [
       "array([0.21886792, 0.37735849, 0.23018868, 0.59245283, 0.93962264,\n",
       "       0.22264151, 0.29811321, 0.91698113, 0.22641509, 0.37735849,\n",
       "       0.98867925, 0.36603774, 0.59245283, 0.96603774, 0.64150943,\n",
       "       0.29811321, 0.72830189, 0.38490566, 0.64150943, 0.7509434 ,\n",
       "       0.16603774, 0.59245283, 0.77358491, 0.64150943, 0.29811321,\n",
       "       0.81886792, 0.6       , 0.64150943, 0.79622642, 0.0754717 ,\n",
       "       0.59245283, 0.84150943, 0.24150943, 0.29811321, 0.86792453,\n",
       "       0.16603774, 0.16603774, 0.89433962, 0.39245283, 0.35849057])"
      ]
     },
     "execution_count": 16,
     "metadata": {},
     "output_type": "execute_result"
    }
   ],
   "source": [
    "rs_X[0,:]"
   ]
  },
  {
   "cell_type": "code",
   "execution_count": 17,
   "id": "75638033",
   "metadata": {},
   "outputs": [
    {
     "data": {
      "text/plain": [
       "array([[0.21886792],\n",
       "       [0.37735849],\n",
       "       [0.23018868],\n",
       "       [0.59245283],\n",
       "       [0.93962264],\n",
       "       [0.22264151],\n",
       "       [0.29811321],\n",
       "       [0.91698113],\n",
       "       [0.22641509],\n",
       "       [0.37735849],\n",
       "       [0.98867925],\n",
       "       [0.36603774],\n",
       "       [0.59245283],\n",
       "       [0.96603774],\n",
       "       [0.64150943],\n",
       "       [0.29811321],\n",
       "       [0.72830189],\n",
       "       [0.38490566],\n",
       "       [0.64150943],\n",
       "       [0.7509434 ],\n",
       "       [0.16603774],\n",
       "       [0.59245283],\n",
       "       [0.77358491],\n",
       "       [0.64150943],\n",
       "       [0.29811321],\n",
       "       [0.81886792],\n",
       "       [0.6       ],\n",
       "       [0.64150943],\n",
       "       [0.79622642],\n",
       "       [0.0754717 ],\n",
       "       [0.59245283],\n",
       "       [0.84150943],\n",
       "       [0.24150943],\n",
       "       [0.29811321],\n",
       "       [0.86792453],\n",
       "       [0.16603774],\n",
       "       [0.16603774],\n",
       "       [0.89433962],\n",
       "       [0.39245283],\n",
       "       [0.35849057]])"
      ]
     },
     "execution_count": 17,
     "metadata": {},
     "output_type": "execute_result"
    }
   ],
   "source": [
    "X[0,:,:]"
   ]
  },
  {
   "cell_type": "code",
   "execution_count": 19,
   "id": "dde4f25b",
   "metadata": {},
   "outputs": [
    {
     "data": {
      "text/html": [
       "<div>\n",
       "<style scoped>\n",
       "    .dataframe tbody tr th:only-of-type {\n",
       "        vertical-align: middle;\n",
       "    }\n",
       "\n",
       "    .dataframe tbody tr th {\n",
       "        vertical-align: top;\n",
       "    }\n",
       "\n",
       "    .dataframe thead th {\n",
       "        text-align: right;\n",
       "    }\n",
       "</style>\n",
       "<table border=\"1\" class=\"dataframe\">\n",
       "  <thead>\n",
       "    <tr style=\"text-align: right;\">\n",
       "      <th></th>\n",
       "      <th>0</th>\n",
       "      <th>1</th>\n",
       "      <th>2</th>\n",
       "      <th>3</th>\n",
       "      <th>4</th>\n",
       "      <th>5</th>\n",
       "      <th>6</th>\n",
       "      <th>7</th>\n",
       "      <th>8</th>\n",
       "      <th>9</th>\n",
       "      <th>...</th>\n",
       "      <th>30</th>\n",
       "      <th>31</th>\n",
       "      <th>32</th>\n",
       "      <th>33</th>\n",
       "      <th>34</th>\n",
       "      <th>35</th>\n",
       "      <th>36</th>\n",
       "      <th>37</th>\n",
       "      <th>38</th>\n",
       "      <th>39</th>\n",
       "    </tr>\n",
       "  </thead>\n",
       "  <tbody>\n",
       "    <tr>\n",
       "      <th>0</th>\n",
       "      <td>0.218868</td>\n",
       "      <td>0.377358</td>\n",
       "      <td>0.230189</td>\n",
       "      <td>0.592453</td>\n",
       "      <td>0.939623</td>\n",
       "      <td>0.222642</td>\n",
       "      <td>0.298113</td>\n",
       "      <td>0.916981</td>\n",
       "      <td>0.226415</td>\n",
       "      <td>0.377358</td>\n",
       "      <td>...</td>\n",
       "      <td>0.592453</td>\n",
       "      <td>0.841509</td>\n",
       "      <td>0.241509</td>\n",
       "      <td>0.298113</td>\n",
       "      <td>0.867925</td>\n",
       "      <td>0.166038</td>\n",
       "      <td>0.166038</td>\n",
       "      <td>0.894340</td>\n",
       "      <td>0.392453</td>\n",
       "      <td>0.358491</td>\n",
       "    </tr>\n",
       "    <tr>\n",
       "      <th>1</th>\n",
       "      <td>0.377358</td>\n",
       "      <td>0.230189</td>\n",
       "      <td>0.592453</td>\n",
       "      <td>0.939623</td>\n",
       "      <td>0.222642</td>\n",
       "      <td>0.298113</td>\n",
       "      <td>0.916981</td>\n",
       "      <td>0.226415</td>\n",
       "      <td>0.377358</td>\n",
       "      <td>0.988679</td>\n",
       "      <td>...</td>\n",
       "      <td>0.841509</td>\n",
       "      <td>0.241509</td>\n",
       "      <td>0.298113</td>\n",
       "      <td>0.867925</td>\n",
       "      <td>0.166038</td>\n",
       "      <td>0.166038</td>\n",
       "      <td>0.894340</td>\n",
       "      <td>0.392453</td>\n",
       "      <td>0.358491</td>\n",
       "      <td>0.867925</td>\n",
       "    </tr>\n",
       "    <tr>\n",
       "      <th>2</th>\n",
       "      <td>0.230189</td>\n",
       "      <td>0.592453</td>\n",
       "      <td>0.939623</td>\n",
       "      <td>0.222642</td>\n",
       "      <td>0.298113</td>\n",
       "      <td>0.916981</td>\n",
       "      <td>0.226415</td>\n",
       "      <td>0.377358</td>\n",
       "      <td>0.988679</td>\n",
       "      <td>0.366038</td>\n",
       "      <td>...</td>\n",
       "      <td>0.241509</td>\n",
       "      <td>0.298113</td>\n",
       "      <td>0.867925</td>\n",
       "      <td>0.166038</td>\n",
       "      <td>0.166038</td>\n",
       "      <td>0.894340</td>\n",
       "      <td>0.392453</td>\n",
       "      <td>0.358491</td>\n",
       "      <td>0.867925</td>\n",
       "      <td>0.166038</td>\n",
       "    </tr>\n",
       "    <tr>\n",
       "      <th>3</th>\n",
       "      <td>0.592453</td>\n",
       "      <td>0.939623</td>\n",
       "      <td>0.222642</td>\n",
       "      <td>0.298113</td>\n",
       "      <td>0.916981</td>\n",
       "      <td>0.226415</td>\n",
       "      <td>0.377358</td>\n",
       "      <td>0.988679</td>\n",
       "      <td>0.366038</td>\n",
       "      <td>0.592453</td>\n",
       "      <td>...</td>\n",
       "      <td>0.298113</td>\n",
       "      <td>0.867925</td>\n",
       "      <td>0.166038</td>\n",
       "      <td>0.166038</td>\n",
       "      <td>0.894340</td>\n",
       "      <td>0.392453</td>\n",
       "      <td>0.358491</td>\n",
       "      <td>0.867925</td>\n",
       "      <td>0.166038</td>\n",
       "      <td>0.166038</td>\n",
       "    </tr>\n",
       "    <tr>\n",
       "      <th>4</th>\n",
       "      <td>0.939623</td>\n",
       "      <td>0.222642</td>\n",
       "      <td>0.298113</td>\n",
       "      <td>0.916981</td>\n",
       "      <td>0.226415</td>\n",
       "      <td>0.377358</td>\n",
       "      <td>0.988679</td>\n",
       "      <td>0.366038</td>\n",
       "      <td>0.592453</td>\n",
       "      <td>0.966038</td>\n",
       "      <td>...</td>\n",
       "      <td>0.867925</td>\n",
       "      <td>0.166038</td>\n",
       "      <td>0.166038</td>\n",
       "      <td>0.894340</td>\n",
       "      <td>0.392453</td>\n",
       "      <td>0.358491</td>\n",
       "      <td>0.867925</td>\n",
       "      <td>0.166038</td>\n",
       "      <td>0.166038</td>\n",
       "      <td>0.796226</td>\n",
       "    </tr>\n",
       "  </tbody>\n",
       "</table>\n",
       "<p>5 rows × 40 columns</p>\n",
       "</div>"
      ],
      "text/plain": [
       "         0         1         2         3         4         5         6   \\\n",
       "0  0.218868  0.377358  0.230189  0.592453  0.939623  0.222642  0.298113   \n",
       "1  0.377358  0.230189  0.592453  0.939623  0.222642  0.298113  0.916981   \n",
       "2  0.230189  0.592453  0.939623  0.222642  0.298113  0.916981  0.226415   \n",
       "3  0.592453  0.939623  0.222642  0.298113  0.916981  0.226415  0.377358   \n",
       "4  0.939623  0.222642  0.298113  0.916981  0.226415  0.377358  0.988679   \n",
       "\n",
       "         7         8         9   ...        30        31        32        33  \\\n",
       "0  0.916981  0.226415  0.377358  ...  0.592453  0.841509  0.241509  0.298113   \n",
       "1  0.226415  0.377358  0.988679  ...  0.841509  0.241509  0.298113  0.867925   \n",
       "2  0.377358  0.988679  0.366038  ...  0.241509  0.298113  0.867925  0.166038   \n",
       "3  0.988679  0.366038  0.592453  ...  0.298113  0.867925  0.166038  0.166038   \n",
       "4  0.366038  0.592453  0.966038  ...  0.867925  0.166038  0.166038  0.894340   \n",
       "\n",
       "         34        35        36        37        38        39  \n",
       "0  0.867925  0.166038  0.166038  0.894340  0.392453  0.358491  \n",
       "1  0.166038  0.166038  0.894340  0.392453  0.358491  0.867925  \n",
       "2  0.166038  0.894340  0.392453  0.358491  0.867925  0.166038  \n",
       "3  0.894340  0.392453  0.358491  0.867925  0.166038  0.166038  \n",
       "4  0.392453  0.358491  0.867925  0.166038  0.166038  0.796226  \n",
       "\n",
       "[5 rows x 40 columns]"
      ]
     },
     "execution_count": 19,
     "metadata": {},
     "output_type": "execute_result"
    }
   ],
   "source": [
    "X_df = pd.DataFrame(rs_X)\n",
    "X_df.head()"
   ]
  },
  {
   "cell_type": "code",
   "execution_count": 22,
   "id": "023c06a5",
   "metadata": {},
   "outputs": [],
   "source": [
    "X_df.to_csv('./preprocessed_data/X.csv')"
   ]
  },
  {
   "cell_type": "code",
   "execution_count": 24,
   "id": "yin7_k2_k-Zj",
   "metadata": {
    "colab": {
     "base_uri": "https://localhost:8080/"
    },
    "executionInfo": {
     "elapsed": 6,
     "status": "ok",
     "timestamp": 1669644686568,
     "user": {
      "displayName": "Jason Grieder",
      "userId": "14883558658845383466"
     },
     "user_tz": -60
    },
    "id": "yin7_k2_k-Zj",
    "outputId": "4c5b02b2-4132-4308-dddc-2ffdee1d3998"
   },
   "outputs": [
    {
     "data": {
      "text/plain": [
       "(13438, 265)"
      ]
     },
     "execution_count": 24,
     "metadata": {},
     "output_type": "execute_result"
    }
   ],
   "source": [
    "y.shape"
   ]
  },
  {
   "cell_type": "code",
   "execution_count": 27,
   "id": "bc71c76c",
   "metadata": {},
   "outputs": [],
   "source": [
    "pd.DataFrame(y).to_csv('./preprocessed_data/y.csv')"
   ]
  },
  {
   "cell_type": "code",
   "execution_count": 30,
   "id": "uSXJtJAWlArO",
   "metadata": {
    "executionInfo": {
     "elapsed": 432,
     "status": "ok",
     "timestamp": 1669644785825,
     "user": {
      "displayName": "Jason Grieder",
      "userId": "14883558658845383466"
     },
     "user_tz": -60
    },
    "id": "uSXJtJAWlArO"
   },
   "outputs": [],
   "source": [
    "X_train, X_test, y_train, y_test = train_test_split(X, y, test_size=0.3)"
   ]
  },
  {
   "cell_type": "markdown",
   "id": "BNFN-V3xliGa",
   "metadata": {
    "id": "BNFN-V3xliGa"
   },
   "source": [
    "## Creating the model"
   ]
  },
  {
   "cell_type": "code",
   "execution_count": 56,
   "id": "dBksZb2tlZRP",
   "metadata": {
    "executionInfo": {
     "elapsed": 1309,
     "status": "ok",
     "timestamp": 1669647117884,
     "user": {
      "displayName": "Jason Grieder",
      "userId": "14883558658845383466"
     },
     "user_tz": -60
    },
    "id": "dBksZb2tlZRP"
   },
   "outputs": [],
   "source": [
    "#Initialising the Model\n",
    "model = Sequential()\n",
    "#Adding layers\n",
    "model.add(LSTM(512, input_shape=(X.shape[1], X.shape[2]), return_sequences=True))\n",
    "model.add(Dropout(0.1))\n",
    "model.add(LSTM(256, return_sequences=True))\n",
    "model.add(Dropout(0.2))\n",
    "model.add(LSTM(128))\n",
    "model.add(Dense(256))\n",
    "model.add(Dropout(0.3))\n",
    "model.add(Dense(128))\n",
    "model.add(Dropout(0.5))\n",
    "model.add(Dense(y.shape[1], activation='softmax'))\n",
    "#Compiling the model for training  \n",
    "model.compile(loss='categorical_crossentropy', optimizer='rmsprop', metrics='accuracy')"
   ]
  },
  {
   "cell_type": "code",
   "execution_count": 57,
   "id": "NOWEA_ZqnPE4",
   "metadata": {
    "executionInfo": {
     "elapsed": 7,
     "status": "ok",
     "timestamp": 1669647117885,
     "user": {
      "displayName": "Jason Grieder",
      "userId": "14883558658845383466"
     },
     "user_tz": -60
    },
    "id": "NOWEA_ZqnPE4"
   },
   "outputs": [],
   "source": [
    "es = EarlyStopping(patience=50, restore_best_weights=True)"
   ]
  },
  {
   "cell_type": "code",
   "execution_count": 58,
   "id": "-_W1L5XLmclL",
   "metadata": {
    "colab": {
     "base_uri": "https://localhost:8080/"
    },
    "executionInfo": {
     "elapsed": 168657,
     "status": "ok",
     "timestamp": 1669647286536,
     "user": {
      "displayName": "Jason Grieder",
      "userId": "14883558658845383466"
     },
     "user_tz": -60
    },
    "id": "-_W1L5XLmclL",
    "outputId": "f89f1292-9675-4983-c932-230add2c39aa"
   },
   "outputs": [
    {
     "name": "stdout",
     "output_type": "stream",
     "text": [
      "Epoch 1/1000\n",
      "250/250 - 8s - loss: 4.7144 - accuracy: 0.0247 - val_loss: 4.4761 - val_accuracy: 0.0350 - 8s/epoch - 31ms/step\n",
      "Epoch 2/1000\n",
      "250/250 - 3s - loss: 4.4450 - accuracy: 0.0262 - val_loss: 4.3751 - val_accuracy: 0.0310 - 3s/epoch - 12ms/step\n",
      "Epoch 3/1000\n",
      "250/250 - 3s - loss: 4.4163 - accuracy: 0.0300 - val_loss: 4.3508 - val_accuracy: 0.0330 - 3s/epoch - 12ms/step\n",
      "Epoch 4/1000\n",
      "250/250 - 3s - loss: 4.4113 - accuracy: 0.0310 - val_loss: 4.3575 - val_accuracy: 0.0330 - 3s/epoch - 12ms/step\n",
      "Epoch 5/1000\n",
      "250/250 - 3s - loss: 4.4077 - accuracy: 0.0338 - val_loss: 4.3983 - val_accuracy: 0.0330 - 3s/epoch - 12ms/step\n",
      "Epoch 6/1000\n",
      "250/250 - 3s - loss: 4.4001 - accuracy: 0.0280 - val_loss: 4.3913 - val_accuracy: 0.0300 - 3s/epoch - 12ms/step\n",
      "Epoch 7/1000\n",
      "250/250 - 3s - loss: 4.3993 - accuracy: 0.0325 - val_loss: 4.3848 - val_accuracy: 0.0300 - 3s/epoch - 12ms/step\n",
      "Epoch 8/1000\n",
      "250/250 - 3s - loss: 4.4004 - accuracy: 0.0345 - val_loss: 4.4098 - val_accuracy: 0.0290 - 3s/epoch - 12ms/step\n",
      "Epoch 9/1000\n",
      "250/250 - 3s - loss: 4.3869 - accuracy: 0.0365 - val_loss: 4.4081 - val_accuracy: 0.0350 - 3s/epoch - 12ms/step\n",
      "Epoch 10/1000\n",
      "250/250 - 3s - loss: 4.3992 - accuracy: 0.0325 - val_loss: 4.3847 - val_accuracy: 0.0370 - 3s/epoch - 12ms/step\n",
      "Epoch 11/1000\n",
      "250/250 - 3s - loss: 4.3928 - accuracy: 0.0282 - val_loss: 4.3940 - val_accuracy: 0.0330 - 3s/epoch - 12ms/step\n",
      "Epoch 12/1000\n",
      "250/250 - 3s - loss: 4.3860 - accuracy: 0.0355 - val_loss: 4.3752 - val_accuracy: 0.0340 - 3s/epoch - 12ms/step\n",
      "Epoch 13/1000\n",
      "250/250 - 3s - loss: 4.3855 - accuracy: 0.0353 - val_loss: 4.4238 - val_accuracy: 0.0330 - 3s/epoch - 12ms/step\n",
      "Epoch 14/1000\n",
      "250/250 - 3s - loss: 4.3851 - accuracy: 0.0370 - val_loss: 4.3994 - val_accuracy: 0.0300 - 3s/epoch - 12ms/step\n",
      "Epoch 15/1000\n",
      "250/250 - 3s - loss: 4.3896 - accuracy: 0.0370 - val_loss: 4.3824 - val_accuracy: 0.0310 - 3s/epoch - 13ms/step\n",
      "Epoch 16/1000\n",
      "250/250 - 3s - loss: 4.3876 - accuracy: 0.0382 - val_loss: 4.3894 - val_accuracy: 0.0330 - 3s/epoch - 12ms/step\n",
      "Epoch 17/1000\n",
      "250/250 - 3s - loss: 4.3778 - accuracy: 0.0330 - val_loss: 4.3637 - val_accuracy: 0.0360 - 3s/epoch - 12ms/step\n",
      "Epoch 18/1000\n",
      "250/250 - 3s - loss: 4.3762 - accuracy: 0.0397 - val_loss: 4.3958 - val_accuracy: 0.0330 - 3s/epoch - 12ms/step\n",
      "Epoch 19/1000\n",
      "250/250 - 3s - loss: 4.3808 - accuracy: 0.0377 - val_loss: 4.3909 - val_accuracy: 0.0320 - 3s/epoch - 12ms/step\n",
      "Epoch 20/1000\n",
      "250/250 - 3s - loss: 4.3766 - accuracy: 0.0325 - val_loss: 4.3777 - val_accuracy: 0.0380 - 3s/epoch - 12ms/step\n",
      "Epoch 21/1000\n",
      "250/250 - 3s - loss: 4.3648 - accuracy: 0.0428 - val_loss: 4.4267 - val_accuracy: 0.0320 - 3s/epoch - 12ms/step\n",
      "Epoch 22/1000\n",
      "250/250 - 3s - loss: 4.3665 - accuracy: 0.0428 - val_loss: 4.3955 - val_accuracy: 0.0320 - 3s/epoch - 12ms/step\n",
      "Epoch 23/1000\n",
      "250/250 - 3s - loss: 4.3610 - accuracy: 0.0410 - val_loss: 4.3827 - val_accuracy: 0.0420 - 3s/epoch - 12ms/step\n",
      "Epoch 24/1000\n",
      "250/250 - 3s - loss: 4.3658 - accuracy: 0.0408 - val_loss: 4.3954 - val_accuracy: 0.0340 - 3s/epoch - 13ms/step\n",
      "Epoch 25/1000\n",
      "250/250 - 3s - loss: 4.3663 - accuracy: 0.0420 - val_loss: 4.3721 - val_accuracy: 0.0390 - 3s/epoch - 12ms/step\n",
      "Epoch 26/1000\n",
      "250/250 - 3s - loss: 4.3588 - accuracy: 0.0422 - val_loss: 4.3738 - val_accuracy: 0.0390 - 3s/epoch - 12ms/step\n",
      "Epoch 27/1000\n",
      "250/250 - 3s - loss: 4.3553 - accuracy: 0.0420 - val_loss: 4.3884 - val_accuracy: 0.0340 - 3s/epoch - 12ms/step\n",
      "Epoch 28/1000\n",
      "250/250 - 3s - loss: 4.3705 - accuracy: 0.0393 - val_loss: 4.3945 - val_accuracy: 0.0330 - 3s/epoch - 12ms/step\n",
      "Epoch 29/1000\n",
      "250/250 - 3s - loss: 4.3547 - accuracy: 0.0422 - val_loss: 4.3715 - val_accuracy: 0.0380 - 3s/epoch - 14ms/step\n",
      "Epoch 30/1000\n",
      "250/250 - 3s - loss: 4.3590 - accuracy: 0.0437 - val_loss: 4.3842 - val_accuracy: 0.0390 - 3s/epoch - 12ms/step\n",
      "Epoch 31/1000\n",
      "250/250 - 3s - loss: 4.3567 - accuracy: 0.0408 - val_loss: 4.3837 - val_accuracy: 0.0360 - 3s/epoch - 12ms/step\n",
      "Epoch 32/1000\n",
      "250/250 - 3s - loss: 4.3570 - accuracy: 0.0450 - val_loss: 4.4065 - val_accuracy: 0.0370 - 3s/epoch - 12ms/step\n",
      "Epoch 33/1000\n",
      "250/250 - 3s - loss: 4.3370 - accuracy: 0.0455 - val_loss: 4.4049 - val_accuracy: 0.0340 - 3s/epoch - 12ms/step\n",
      "Epoch 34/1000\n",
      "250/250 - 3s - loss: 4.3356 - accuracy: 0.0437 - val_loss: 4.3841 - val_accuracy: 0.0310 - 3s/epoch - 12ms/step\n",
      "Epoch 35/1000\n",
      "250/250 - 3s - loss: 4.3253 - accuracy: 0.0405 - val_loss: 4.4258 - val_accuracy: 0.0400 - 3s/epoch - 12ms/step\n",
      "Epoch 36/1000\n",
      "250/250 - 3s - loss: 4.3271 - accuracy: 0.0435 - val_loss: 4.4209 - val_accuracy: 0.0360 - 3s/epoch - 12ms/step\n",
      "Epoch 37/1000\n",
      "250/250 - 3s - loss: 4.3337 - accuracy: 0.0430 - val_loss: 4.4028 - val_accuracy: 0.0380 - 3s/epoch - 12ms/step\n",
      "Epoch 38/1000\n",
      "250/250 - 3s - loss: 4.3272 - accuracy: 0.0472 - val_loss: 4.3868 - val_accuracy: 0.0460 - 3s/epoch - 12ms/step\n",
      "Epoch 39/1000\n",
      "250/250 - 3s - loss: 4.3251 - accuracy: 0.0477 - val_loss: 4.4026 - val_accuracy: 0.0410 - 3s/epoch - 12ms/step\n",
      "Epoch 40/1000\n",
      "250/250 - 3s - loss: 4.3238 - accuracy: 0.0465 - val_loss: 4.3872 - val_accuracy: 0.0420 - 3s/epoch - 12ms/step\n",
      "Epoch 41/1000\n",
      "250/250 - 3s - loss: 4.3133 - accuracy: 0.0492 - val_loss: 4.4130 - val_accuracy: 0.0440 - 3s/epoch - 12ms/step\n",
      "Epoch 42/1000\n",
      "250/250 - 3s - loss: 4.3003 - accuracy: 0.0527 - val_loss: 4.4103 - val_accuracy: 0.0340 - 3s/epoch - 12ms/step\n",
      "Epoch 43/1000\n",
      "250/250 - 3s - loss: 4.2966 - accuracy: 0.0492 - val_loss: 4.3916 - val_accuracy: 0.0390 - 3s/epoch - 12ms/step\n",
      "Epoch 44/1000\n",
      "250/250 - 3s - loss: 4.2994 - accuracy: 0.0532 - val_loss: 4.4190 - val_accuracy: 0.0420 - 3s/epoch - 14ms/step\n",
      "Epoch 45/1000\n",
      "250/250 - 3s - loss: 4.2813 - accuracy: 0.0547 - val_loss: 4.4609 - val_accuracy: 0.0430 - 3s/epoch - 12ms/step\n",
      "Epoch 46/1000\n",
      "250/250 - 3s - loss: 4.2694 - accuracy: 0.0535 - val_loss: 4.4297 - val_accuracy: 0.0340 - 3s/epoch - 12ms/step\n",
      "Epoch 47/1000\n",
      "250/250 - 3s - loss: 4.2553 - accuracy: 0.0578 - val_loss: 4.4142 - val_accuracy: 0.0380 - 3s/epoch - 12ms/step\n",
      "Epoch 48/1000\n",
      "250/250 - 3s - loss: 4.2476 - accuracy: 0.0600 - val_loss: 4.4148 - val_accuracy: 0.0410 - 3s/epoch - 12ms/step\n",
      "Epoch 49/1000\n",
      "250/250 - 3s - loss: 4.2437 - accuracy: 0.0565 - val_loss: 4.4093 - val_accuracy: 0.0360 - 3s/epoch - 12ms/step\n",
      "Epoch 50/1000\n",
      "250/250 - 3s - loss: 4.2245 - accuracy: 0.0602 - val_loss: 4.4723 - val_accuracy: 0.0330 - 3s/epoch - 12ms/step\n",
      "Epoch 51/1000\n",
      "250/250 - 3s - loss: 4.1955 - accuracy: 0.0617 - val_loss: 4.4165 - val_accuracy: 0.0400 - 3s/epoch - 12ms/step\n",
      "Epoch 52/1000\n",
      "250/250 - 3s - loss: 4.1888 - accuracy: 0.0675 - val_loss: 4.4142 - val_accuracy: 0.0460 - 3s/epoch - 12ms/step\n",
      "Epoch 53/1000\n",
      "250/250 - 3s - loss: 4.1586 - accuracy: 0.0705 - val_loss: 4.4240 - val_accuracy: 0.0420 - 3s/epoch - 12ms/step\n"
     ]
    }
   ],
   "source": [
    "history = model.fit(X_train[:5000], y_train[:5000], \n",
    "                    batch_size=16, epochs=1000, \n",
    "                    verbose=2, callbacks=es, \n",
    "                    validation_split=0.2)"
   ]
  },
  {
   "cell_type": "code",
   "execution_count": null,
   "id": "kjI60tlNmpEj",
   "metadata": {
    "id": "kjI60tlNmpEj"
   },
   "outputs": [],
   "source": []
  }
 ],
 "metadata": {
  "accelerator": "GPU",
  "colab": {
   "collapsed_sections": [
    "sdXyWhQgaw7y"
   ],
   "provenance": []
  },
  "gpuClass": "standard",
  "kernelspec": {
   "display_name": "Python 3 (ipykernel)",
   "language": "python",
   "name": "python3"
  },
  "language_info": {
   "codemirror_mode": {
    "name": "ipython",
    "version": 3
   },
   "file_extension": ".py",
   "mimetype": "text/x-python",
   "name": "python",
   "nbconvert_exporter": "python",
   "pygments_lexer": "ipython3",
   "version": "3.10.6"
  },
  "toc": {
   "base_numbering": 1,
   "nav_menu": {},
   "number_sections": true,
   "sideBar": true,
   "skip_h1_title": false,
   "title_cell": "Table of Contents",
   "title_sidebar": "Contents",
   "toc_cell": false,
   "toc_position": {},
   "toc_section_display": true,
   "toc_window_display": false
  }
 },
 "nbformat": 4,
 "nbformat_minor": 5
}
