{
 "cells": [
  {
   "cell_type": "markdown",
   "id": "732caf59",
   "metadata": {
    "id": "732caf59"
   },
   "source": [
    "# Base model and data collection"
   ]
  },
  {
   "cell_type": "code",
   "execution_count": 1,
   "id": "ZagJ_bxo3M1r",
   "metadata": {
    "colab": {
     "base_uri": "https://localhost:8080/"
    },
    "executionInfo": {
     "elapsed": 4599,
     "status": "ok",
     "timestamp": 1669979163645,
     "user": {
      "displayName": "Jason Grieder",
      "userId": "14883558658845383466"
     },
     "user_tz": -60
    },
    "id": "ZagJ_bxo3M1r",
    "outputId": "3521e5c5-02ac-45b1-a47b-010ce4ad843e"
   },
   "outputs": [
    {
     "name": "stdout",
     "output_type": "stream",
     "text": [
      "Collecting pretty_midi\n",
      "  Using cached pretty_midi-0.2.9.tar.gz (5.6 MB)\n",
      "  Preparing metadata (setup.py) ... \u001b[?25ldone\n",
      "\u001b[?25hCollecting numpy>=1.7.0\n",
      "  Using cached numpy-1.23.5-cp310-cp310-macosx_10_9_x86_64.whl (18.1 MB)\n",
      "Collecting mido>=1.1.16\n",
      "  Using cached mido-1.2.10-py2.py3-none-any.whl (51 kB)\n",
      "Requirement already satisfied: six in /Users/jasongrieder/.pyenv/versions/3.10.6/lib/python3.10/site-packages (from pretty_midi) (1.16.0)\n",
      "Using legacy 'setup.py install' for pretty_midi, since package 'wheel' is not installed.\n",
      "Installing collected packages: mido, numpy, pretty_midi\n",
      "  Running setup.py install for pretty_midi ... \u001b[?25ldone\n",
      "\u001b[?25hSuccessfully installed mido-1.2.10 numpy-1.23.5 pretty_midi-0.2.9\n",
      "\n",
      "\u001b[1m[\u001b[0m\u001b[34;49mnotice\u001b[0m\u001b[1;39;49m]\u001b[0m\u001b[39;49m A new release of pip available: \u001b[0m\u001b[31;49m22.2.1\u001b[0m\u001b[39;49m -> \u001b[0m\u001b[32;49m22.3.1\u001b[0m\n",
      "\u001b[1m[\u001b[0m\u001b[34;49mnotice\u001b[0m\u001b[1;39;49m]\u001b[0m\u001b[39;49m To update, run: \u001b[0m\u001b[32;49mpip install --upgrade pip\u001b[0m\n"
     ]
    }
   ],
   "source": [
    "!pip install pretty_midi"
   ]
  },
  {
   "cell_type": "code",
   "execution_count": 2,
   "id": "de3fc6c2",
   "metadata": {
    "executionInfo": {
     "elapsed": 12,
     "status": "ok",
     "timestamp": 1669979163646,
     "user": {
      "displayName": "Jason Grieder",
      "userId": "14883558658845383466"
     },
     "user_tz": -60
    },
    "id": "de3fc6c2"
   },
   "outputs": [
    {
     "ename": "ModuleNotFoundError",
     "evalue": "No module named 'tensorflow'",
     "output_type": "error",
     "traceback": [
      "\u001b[0;31m---------------------------------------------------------------------------\u001b[0m",
      "\u001b[0;31mModuleNotFoundError\u001b[0m                       Traceback (most recent call last)",
      "Cell \u001b[0;32mIn[2], line 1\u001b[0m\n\u001b[0;32m----> 1\u001b[0m \u001b[39mimport\u001b[39;00m \u001b[39mtensorflow\u001b[39;00m \u001b[39mas\u001b[39;00m \u001b[39mtf\u001b[39;00m\n\u001b[1;32m      2\u001b[0m \u001b[39mimport\u001b[39;00m \u001b[39mnumpy\u001b[39;00m \u001b[39mas\u001b[39;00m \u001b[39mnp\u001b[39;00m \n\u001b[1;32m      3\u001b[0m \u001b[39mimport\u001b[39;00m \u001b[39mpandas\u001b[39;00m \u001b[39mas\u001b[39;00m \u001b[39mpd\u001b[39;00m \n",
      "\u001b[0;31mModuleNotFoundError\u001b[0m: No module named 'tensorflow'"
     ]
    }
   ],
   "source": [
    "import tensorflow as tf\n",
    "import numpy as np \n",
    "import pandas as pd \n",
    "import matplotlib.pyplot as plt \n",
    "from tensorflow.keras.models import Sequential\n",
    "from tensorflow.keras.layers import LSTM, Dense, Dropout\n",
    "from tensorflow.keras.callbacks import EarlyStopping\n",
    "import matplotlib.pyplot as plt\n",
    "%matplotlib inline\n",
    "import os\n",
    "import pretty_midi as pm\n",
    "import collections\n"
   ]
  },
  {
   "cell_type": "code",
   "execution_count": null,
   "id": "6bc3b6a9",
   "metadata": {},
   "outputs": [],
   "source": [
    "from google.colab import drive\n",
    "drive.mount('/content/drive')"
   ]
  },
  {
   "cell_type": "markdown",
   "id": "ea1353a9",
   "metadata": {
    "id": "ea1353a9"
   },
   "source": [
    "## Load data"
   ]
  },
  {
   "cell_type": "code",
   "execution_count": null,
   "id": "e8259b7d",
   "metadata": {
    "executionInfo": {
     "elapsed": 5826,
     "status": "ok",
     "timestamp": 1669979171186,
     "user": {
      "displayName": "Jason Grieder",
      "userId": "14883558658845383466"
     },
     "user_tz": -60
    },
    "id": "e8259b7d"
   },
   "outputs": [],
   "source": [
    "#Loading the list of chopin's midi files as stream \n",
    "filepath = os.path.join( \"data\", \"raw_data\", \"chopin\")\n",
    "#Getting midi files\n",
    "all_midis= []\n",
    "for i in os.listdir(filepath):\n",
    "    if i.endswith(\".mid\"):\n",
    "        tr = os.path.join(filepath, i)\n",
    "        midi = pm.PrettyMIDI(tr)\n",
    "        all_midis.append(midi)"
   ]
  },
  {
   "cell_type": "code",
   "execution_count": null,
   "id": "DlucLVrqqfZd",
   "metadata": {
    "executionInfo": {
     "elapsed": 12,
     "status": "ok",
     "timestamp": 1669979171186,
     "user": {
      "displayName": "Jason Grieder",
      "userId": "14883558658845383466"
     },
     "user_tz": -60
    },
    "id": "DlucLVrqqfZd"
   },
   "outputs": [],
   "source": [
    "def bpm(midi_file):\n",
    "  \"\"\"returns most frequent bpm listed in midi file\"\"\"\n",
    "  l, counts = np.unique(midi_file.get_tempo_changes()[1].round(), return_counts=True)\n",
    "  return l[np.argmax(counts)]"
   ]
  },
  {
   "cell_type": "code",
   "execution_count": null,
   "id": "vWQsp9-CZf9R",
   "metadata": {
    "executionInfo": {
     "elapsed": 10,
     "status": "ok",
     "timestamp": 1669979171187,
     "user": {
      "displayName": "Jason Grieder",
      "userId": "14883558658845383466"
     },
     "user_tz": -60
    },
    "id": "vWQsp9-CZf9R"
   },
   "outputs": [],
   "source": [
    "#Helping function        \n",
    "def midi_to_notes(file) -> pd.DataFrame:\n",
    "  \"\"\"Turns midi file into dataframe containing \n",
    "  pitch, step, duration and velocity\"\"\"\n",
    "\n",
    "  notes = collections.defaultdict(list)\n",
    "  sorted_notes=[]\n",
    "  for i in range(len(file.instruments)):\n",
    "    # Sort the notes by start time\n",
    "    sorted_notes += list(file.instruments[i].notes)\n",
    "\n",
    "  sorted_notes = sorted(sorted_notes, key=lambda note: note.start)\n",
    "  prev_start = sorted_notes[0].start\n",
    "\n",
    "  for note in sorted_notes:\n",
    "    start = note.start\n",
    "    end = note.end\n",
    "    notes['start'].append(start)\n",
    "    notes['pitch'].append(int(note.pitch))\n",
    "    notes['step'].append(start - prev_start)\n",
    "    notes['duration'].append(end - start)\n",
    "    notes['velocity'].append(note.velocity)\n",
    "    prev_start = start\n",
    "\n",
    "  return pd.DataFrame({name: np.array(value) for name, value in notes.items()}).sort_values(by=['start'])"
   ]
  },
  {
   "cell_type": "code",
   "execution_count": null,
   "id": "LnHxV9zVK8Wf",
   "metadata": {
    "executionInfo": {
     "elapsed": 10,
     "status": "ok",
     "timestamp": 1669979171188,
     "user": {
      "displayName": "Jason Grieder",
      "userId": "14883558658845383466"
     },
     "user_tz": -60
    },
    "id": "LnHxV9zVK8Wf"
   },
   "outputs": [],
   "source": [
    "def notes_to_chords(df):\n",
    "  \"\"\"group notes played at the same time into chords.\n",
    "  returns dataframe with pitch, start and step columns\"\"\"\n",
    "\n",
    "  df['pitch'] = df['pitch'].apply(lambda x: str(x))\n",
    "  df = df[['pitch', 'start', 'step', 'velocity', 'duration']].groupby('start', as_index=False).agg({'pitch':lambda x : '.'.join(x), \n",
    "                                                                                                    'step':'sum', \n",
    "                                                                                                    'velocity':'max', \n",
    "                                                                                                    'duration':'max'})\n",
    "  return df"
   ]
  },
  {
   "cell_type": "code",
   "execution_count": null,
   "id": "qVC7oZU_oZ3O",
   "metadata": {
    "executionInfo": {
     "elapsed": 9,
     "status": "ok",
     "timestamp": 1669979171188,
     "user": {
      "displayName": "Jason Grieder",
      "userId": "14883558658845383466"
     },
     "user_tz": -60
    },
    "id": "qVC7oZU_oZ3O"
   },
   "outputs": [],
   "source": [
    "def strongest_note(df):\n",
    "  \"\"\"group notes played at the sametime based on the stongest note played. \n",
    "  returns dataframe with pitch, start and step columns\"\"\"\n",
    "\n",
    "  df = df[['pitch', 'start', 'step', 'velocity', 'duration']].groupby('start', as_index=False).agg({'pitch':lambda g: g[df.loc[g.index]['velocity'].idxmax()], \n",
    "                                                                            'step':'sum', \n",
    "                                                                            'velocity':'max', \n",
    "                                                                            'duration':'max'})\n",
    "  return df"
   ]
  },
  {
   "cell_type": "code",
   "execution_count": null,
   "id": "0usRmxwx8f0V",
   "metadata": {
    "executionInfo": {
     "elapsed": 30395,
     "status": "ok",
     "timestamp": 1669979201575,
     "user": {
      "displayName": "Jason Grieder",
      "userId": "14883558658845383466"
     },
     "user_tz": -60
    },
    "id": "0usRmxwx8f0V"
   },
   "outputs": [],
   "source": [
    "processed_files = [strongest_note(midi_to_notes(file))[['pitch', 'step', 'velocity', 'duration']] for file in all_midis]"
   ]
  },
  {
   "cell_type": "code",
   "execution_count": null,
   "id": "kAfLokdjeQCI",
   "metadata": {
    "executionInfo": {
     "elapsed": 26,
     "status": "ok",
     "timestamp": 1669979201576,
     "user": {
      "displayName": "Jason Grieder",
      "userId": "14883558658845383466"
     },
     "user_tz": -60
    },
    "id": "kAfLokdjeQCI"
   },
   "outputs": [],
   "source": [
    "sample_files = pd.concat(processed_files).reset_index().drop(columns='index')"
   ]
  },
  {
   "cell_type": "code",
   "execution_count": null,
   "id": "oZ9HEQixeVAW",
   "metadata": {
    "executionInfo": {
     "elapsed": 25,
     "status": "ok",
     "timestamp": 1669979201577,
     "user": {
      "displayName": "Jason Grieder",
      "userId": "14883558658845383466"
     },
     "user_tz": -60
    },
    "id": "oZ9HEQixeVAW"
   },
   "outputs": [],
   "source": [
    "sample_files['pitch'] = sample_files['pitch']-21"
   ]
  },
  {
   "cell_type": "code",
   "execution_count": null,
   "id": "nWFdtK9xe5XM",
   "metadata": {
    "executionInfo": {
     "elapsed": 543,
     "status": "ok",
     "timestamp": 1669982835848,
     "user": {
      "displayName": "Jason Grieder",
      "userId": "14883558658845383466"
     },
     "user_tz": -60
    },
    "id": "nWFdtK9xe5XM"
   },
   "outputs": [],
   "source": [
    "sample_files.to_csv(os.path.join(\"data\", \"processed_data\", \n",
    "                                 \"processed_data.csv\"))"
   ]
  },
  {
   "cell_type": "markdown",
   "id": "sdXyWhQgaw7y",
   "metadata": {
    "id": "sdXyWhQgaw7y"
   },
   "source": [
    "##Data exploration"
   ]
  },
  {
   "cell_type": "code",
   "execution_count": null,
   "id": "HwkLljEnItis",
   "metadata": {
    "colab": {
     "base_uri": "https://localhost:8080/",
     "height": 424
    },
    "executionInfo": {
     "elapsed": 25,
     "status": "ok",
     "timestamp": 1669979201927,
     "user": {
      "displayName": "Jason Grieder",
      "userId": "14883558658845383466"
     },
     "user_tz": -60
    },
    "id": "HwkLljEnItis",
    "outputId": "bb1aedce-0e4c-4563-964f-266f82405578"
   },
   "outputs": [
    {
     "data": {
      "text/html": [
       "\n",
       "  <div id=\"df-3944457b-1dc7-43da-8aa1-45cd9a9760ee\">\n",
       "    <div class=\"colab-df-container\">\n",
       "      <div>\n",
       "<style scoped>\n",
       "    .dataframe tbody tr th:only-of-type {\n",
       "        vertical-align: middle;\n",
       "    }\n",
       "\n",
       "    .dataframe tbody tr th {\n",
       "        vertical-align: top;\n",
       "    }\n",
       "\n",
       "    .dataframe thead th {\n",
       "        text-align: right;\n",
       "    }\n",
       "</style>\n",
       "<table border=\"1\" class=\"dataframe\">\n",
       "  <thead>\n",
       "    <tr style=\"text-align: right;\">\n",
       "      <th></th>\n",
       "      <th>pitch</th>\n",
       "      <th>step</th>\n",
       "      <th>velocity</th>\n",
       "      <th>duration</th>\n",
       "    </tr>\n",
       "  </thead>\n",
       "  <tbody>\n",
       "    <tr>\n",
       "      <th>0</th>\n",
       "      <td>43</td>\n",
       "      <td>0.000000</td>\n",
       "      <td>60</td>\n",
       "      <td>0.813449</td>\n",
       "    </tr>\n",
       "    <tr>\n",
       "      <th>1</th>\n",
       "      <td>43</td>\n",
       "      <td>0.813449</td>\n",
       "      <td>60</td>\n",
       "      <td>0.610087</td>\n",
       "    </tr>\n",
       "    <tr>\n",
       "      <th>2</th>\n",
       "      <td>43</td>\n",
       "      <td>0.610087</td>\n",
       "      <td>57</td>\n",
       "      <td>0.203362</td>\n",
       "    </tr>\n",
       "    <tr>\n",
       "      <th>3</th>\n",
       "      <td>43</td>\n",
       "      <td>0.203362</td>\n",
       "      <td>60</td>\n",
       "      <td>0.813449</td>\n",
       "    </tr>\n",
       "    <tr>\n",
       "      <th>4</th>\n",
       "      <td>44</td>\n",
       "      <td>0.813449</td>\n",
       "      <td>58</td>\n",
       "      <td>0.813449</td>\n",
       "    </tr>\n",
       "    <tr>\n",
       "      <th>...</th>\n",
       "      <td>...</td>\n",
       "      <td>...</td>\n",
       "      <td>...</td>\n",
       "      <td>...</td>\n",
       "    </tr>\n",
       "    <tr>\n",
       "      <th>43471</th>\n",
       "      <td>35</td>\n",
       "      <td>0.698126</td>\n",
       "      <td>50</td>\n",
       "      <td>0.388533</td>\n",
       "    </tr>\n",
       "    <tr>\n",
       "      <th>43472</th>\n",
       "      <td>40</td>\n",
       "      <td>0.809819</td>\n",
       "      <td>51</td>\n",
       "      <td>0.460074</td>\n",
       "    </tr>\n",
       "    <tr>\n",
       "      <th>43473</th>\n",
       "      <td>44</td>\n",
       "      <td>0.966809</td>\n",
       "      <td>58</td>\n",
       "      <td>3.243243</td>\n",
       "    </tr>\n",
       "    <tr>\n",
       "      <th>43474</th>\n",
       "      <td>35</td>\n",
       "      <td>3.243243</td>\n",
       "      <td>27</td>\n",
       "      <td>14.950559</td>\n",
       "    </tr>\n",
       "    <tr>\n",
       "      <th>43475</th>\n",
       "      <td>44</td>\n",
       "      <td>3.243243</td>\n",
       "      <td>33</td>\n",
       "      <td>11.707316</td>\n",
       "    </tr>\n",
       "  </tbody>\n",
       "</table>\n",
       "<p>43476 rows × 4 columns</p>\n",
       "</div>\n",
       "      <button class=\"colab-df-convert\" onclick=\"convertToInteractive('df-3944457b-1dc7-43da-8aa1-45cd9a9760ee')\"\n",
       "              title=\"Convert this dataframe to an interactive table.\"\n",
       "              style=\"display:none;\">\n",
       "        \n",
       "  <svg xmlns=\"http://www.w3.org/2000/svg\" height=\"24px\"viewBox=\"0 0 24 24\"\n",
       "       width=\"24px\">\n",
       "    <path d=\"M0 0h24v24H0V0z\" fill=\"none\"/>\n",
       "    <path d=\"M18.56 5.44l.94 2.06.94-2.06 2.06-.94-2.06-.94-.94-2.06-.94 2.06-2.06.94zm-11 1L8.5 8.5l.94-2.06 2.06-.94-2.06-.94L8.5 2.5l-.94 2.06-2.06.94zm10 10l.94 2.06.94-2.06 2.06-.94-2.06-.94-.94-2.06-.94 2.06-2.06.94z\"/><path d=\"M17.41 7.96l-1.37-1.37c-.4-.4-.92-.59-1.43-.59-.52 0-1.04.2-1.43.59L10.3 9.45l-7.72 7.72c-.78.78-.78 2.05 0 2.83L4 21.41c.39.39.9.59 1.41.59.51 0 1.02-.2 1.41-.59l7.78-7.78 2.81-2.81c.8-.78.8-2.07 0-2.86zM5.41 20L4 18.59l7.72-7.72 1.47 1.35L5.41 20z\"/>\n",
       "  </svg>\n",
       "      </button>\n",
       "      \n",
       "  <style>\n",
       "    .colab-df-container {\n",
       "      display:flex;\n",
       "      flex-wrap:wrap;\n",
       "      gap: 12px;\n",
       "    }\n",
       "\n",
       "    .colab-df-convert {\n",
       "      background-color: #E8F0FE;\n",
       "      border: none;\n",
       "      border-radius: 50%;\n",
       "      cursor: pointer;\n",
       "      display: none;\n",
       "      fill: #1967D2;\n",
       "      height: 32px;\n",
       "      padding: 0 0 0 0;\n",
       "      width: 32px;\n",
       "    }\n",
       "\n",
       "    .colab-df-convert:hover {\n",
       "      background-color: #E2EBFA;\n",
       "      box-shadow: 0px 1px 2px rgba(60, 64, 67, 0.3), 0px 1px 3px 1px rgba(60, 64, 67, 0.15);\n",
       "      fill: #174EA6;\n",
       "    }\n",
       "\n",
       "    [theme=dark] .colab-df-convert {\n",
       "      background-color: #3B4455;\n",
       "      fill: #D2E3FC;\n",
       "    }\n",
       "\n",
       "    [theme=dark] .colab-df-convert:hover {\n",
       "      background-color: #434B5C;\n",
       "      box-shadow: 0px 1px 3px 1px rgba(0, 0, 0, 0.15);\n",
       "      filter: drop-shadow(0px 1px 2px rgba(0, 0, 0, 0.3));\n",
       "      fill: #FFFFFF;\n",
       "    }\n",
       "  </style>\n",
       "\n",
       "      <script>\n",
       "        const buttonEl =\n",
       "          document.querySelector('#df-3944457b-1dc7-43da-8aa1-45cd9a9760ee button.colab-df-convert');\n",
       "        buttonEl.style.display =\n",
       "          google.colab.kernel.accessAllowed ? 'block' : 'none';\n",
       "\n",
       "        async function convertToInteractive(key) {\n",
       "          const element = document.querySelector('#df-3944457b-1dc7-43da-8aa1-45cd9a9760ee');\n",
       "          const dataTable =\n",
       "            await google.colab.kernel.invokeFunction('convertToInteractive',\n",
       "                                                     [key], {});\n",
       "          if (!dataTable) return;\n",
       "\n",
       "          const docLinkHtml = 'Like what you see? Visit the ' +\n",
       "            '<a target=\"_blank\" href=https://colab.research.google.com/notebooks/data_table.ipynb>data table notebook</a>'\n",
       "            + ' to learn more about interactive tables.';\n",
       "          element.innerHTML = '';\n",
       "          dataTable['output_type'] = 'display_data';\n",
       "          await google.colab.output.renderOutput(dataTable, element);\n",
       "          const docLink = document.createElement('div');\n",
       "          docLink.innerHTML = docLinkHtml;\n",
       "          element.appendChild(docLink);\n",
       "        }\n",
       "      </script>\n",
       "    </div>\n",
       "  </div>\n",
       "  "
      ],
      "text/plain": [
       "       pitch      step  velocity   duration\n",
       "0         43  0.000000        60   0.813449\n",
       "1         43  0.813449        60   0.610087\n",
       "2         43  0.610087        57   0.203362\n",
       "3         43  0.203362        60   0.813449\n",
       "4         44  0.813449        58   0.813449\n",
       "...      ...       ...       ...        ...\n",
       "43471     35  0.698126        50   0.388533\n",
       "43472     40  0.809819        51   0.460074\n",
       "43473     44  0.966809        58   3.243243\n",
       "43474     35  3.243243        27  14.950559\n",
       "43475     44  3.243243        33  11.707316\n",
       "\n",
       "[43476 rows x 4 columns]"
      ]
     },
     "execution_count": 67,
     "metadata": {},
     "output_type": "execute_result"
    }
   ],
   "source": [
    "sample_files"
   ]
  },
  {
   "cell_type": "code",
   "execution_count": null,
   "id": "DTlckeuBSq4P",
   "metadata": {
    "executionInfo": {
     "elapsed": 21,
     "status": "ok",
     "timestamp": 1669979201928,
     "user": {
      "displayName": "Jason Grieder",
      "userId": "14883558658845383466"
     },
     "user_tz": -60
    },
    "id": "DTlckeuBSq4P"
   },
   "outputs": [],
   "source": [
    "pitches = sample_files['pitch']"
   ]
  },
  {
   "cell_type": "code",
   "execution_count": null,
   "id": "KWW2nZUWa03K",
   "metadata": {
    "colab": {
     "base_uri": "https://localhost:8080/"
    },
    "executionInfo": {
     "elapsed": 20,
     "status": "ok",
     "timestamp": 1669979201928,
     "user": {
      "displayName": "Jason Grieder",
      "userId": "14883558658845383466"
     },
     "user_tz": -60
    },
    "id": "KWW2nZUWa03K",
    "outputId": "468ce2bb-e727-4aae-9e69-2eb5f2ee396e"
   },
   "outputs": [
    {
     "name": "stdout",
     "output_type": "stream",
     "text": [
      "Total unique notes in the Corpus: 76\n"
     ]
    }
   ],
   "source": [
    "un_notes, counts = np.unique(pitches, return_counts=True)\n",
    "print(\"Total unique notes in the Corpus:\", un_notes.shape[0])"
   ]
  },
  {
   "cell_type": "code",
   "execution_count": null,
   "id": "LKN7n_UEa8xC",
   "metadata": {
    "colab": {
     "base_uri": "https://localhost:8080/"
    },
    "executionInfo": {
     "elapsed": 18,
     "status": "ok",
     "timestamp": 1669979201929,
     "user": {
      "displayName": "Jason Grieder",
      "userId": "14883558658845383466"
     },
     "user_tz": -60
    },
    "id": "LKN7n_UEa8xC",
    "outputId": "25987ac8-2df7-4dfb-f63c-dbbf78f01e34"
   },
   "outputs": [
    {
     "name": "stdout",
     "output_type": "stream",
     "text": [
      "Average recurrence for a note in Corpus: 572.0526315789474\n",
      "Most frequent note in Corpus appeared: 1760 times\n",
      "Least frequent note in Corpus appeared: 4 times\n"
     ]
    }
   ],
   "source": [
    "#Average recurrenc for a note in Corpus\n",
    "def Average(array):\n",
    "    return sum(array) / len(array)\n",
    "print(\"Average recurrence for a note in Corpus:\", Average(counts))\n",
    "print(\"Most frequent note in Corpus appeared:\", max(counts), \"times\")\n",
    "print(\"Least frequent note in Corpus appeared:\", min(counts), \"times\")"
   ]
  },
  {
   "cell_type": "code",
   "execution_count": null,
   "id": "W3UGhq7-bCu-",
   "metadata": {
    "colab": {
     "base_uri": "https://localhost:8080/",
     "height": 239
    },
    "executionInfo": {
     "elapsed": 306,
     "status": "ok",
     "timestamp": 1669979202220,
     "user": {
      "displayName": "Jason Grieder",
      "userId": "14883558658845383466"
     },
     "user_tz": -60
    },
    "id": "W3UGhq7-bCu-",
    "outputId": "6b714b6f-6482-4d6a-b315-bf1a9452d24d"
   },
   "outputs": [
    {
     "data": {
      "image/png": "[encoded data removed]",
      "text/plain": [
       "<Figure size 1296x216 with 1 Axes>"
      ]
     },
     "metadata": {
      "image/png": {
       "height": 222,
       "width": 1045
      },
      "needs_background": "light"
     },
     "output_type": "display_data"
    }
   ],
   "source": [
    "# Plotting the distribution of Notes\n",
    "plt.figure(figsize=(18,3)) \n",
    "plt.hist(counts, bins=50)\n",
    "plt.title(\"Frequency Distribution Of Notes In The Corpus\")\n",
    "plt.xlabel(\"Frequency Of Chords in Corpus\")\n",
    "plt.ylabel(\"Number Of Chords\")\n",
    "plt.show()"
   ]
  },
  {
   "cell_type": "code",
   "execution_count": null,
   "id": "MxO_j7jUc6BL",
   "metadata": {
    "colab": {
     "base_uri": "https://localhost:8080/"
    },
    "executionInfo": {
     "elapsed": 214,
     "status": "ok",
     "timestamp": 1669979262815,
     "user": {
      "displayName": "Jason Grieder",
      "userId": "14883558658845383466"
     },
     "user_tz": -60
    },
    "id": "MxO_j7jUc6BL",
    "outputId": "85992bee-a8b4-4084-889b-9ff41cc32101"
   },
   "outputs": [
    {
     "name": "stdout",
     "output_type": "stream",
     "text": [
      "Total number of notes that occur less than 10 times: 16\n"
     ]
    }
   ],
   "source": [
    "#Getting a list of rare chords\n",
    "        \n",
    "print(\"Total number of notes that occur less than 10 times:\", (counts<100).sum())"
   ]
  },
  {
   "cell_type": "markdown",
   "id": "Zq0ZciVegwsr",
   "metadata": {
    "id": "Zq0ZciVegwsr"
   },
   "source": [
    "## Preprocessing"
   ]
  },
  {
   "cell_type": "code",
   "execution_count": null,
   "id": "lQhbANPkmYo8",
   "metadata": {
    "executionInfo": {
     "elapsed": 223,
     "status": "ok",
     "timestamp": 1669982860501,
     "user": {
      "displayName": "Jason Grieder",
      "userId": "14883558658845383466"
     },
     "user_tz": -60
    },
    "id": "lQhbANPkmYo8"
   },
   "outputs": [],
   "source": [
    "def data_split(df, \n",
    "               train_split=0.7, \n",
    "               val_split=0.2,\n",
    "               seed_split=0.1,\n",
    "               seq_length=40):\n",
    "  \"\"\"Function which takes a chronologically \n",
    "  ordered dataframe, desired sequence length,\n",
    "  as well as train, validation, seed split sizes, \n",
    "  and returns train, validation and seed datasets. \n",
    "  (function ONLY works with input split\n",
    "  sizes with one decimal place)\"\"\"\n",
    "\n",
    "  num_seq = round(len(df)/(seq_length+1))\n",
    "  train_df = pd.DataFrame(columns=df.columns)\n",
    "  val_df = pd.DataFrame(columns=df.columns)\n",
    "  seed_df = pd.DataFrame(columns=df.columns)\n",
    "\n",
    "  for i, chunk in enumerate(np.array_split(df, num_seq)):\n",
    "    if int(str(i)[-1]) < 10*train_split:\n",
    "      train_df = pd.concat([train_df, chunk])\n",
    "    elif int(str(i)[-1]) < 10*(train_split+val_split):\n",
    "      val_df = pd.concat([val_df, chunk])\n",
    "    else:\n",
    "      seed_df = pd.concat([seed_df, chunk])\n",
    "\n",
    "  train_df = train_df.reset_index().drop(columns='index').astype('float64')\n",
    "\n",
    "  val_df = val_df.reset_index().drop(columns='index').astype('float64')\n",
    "\n",
    "  seed_df = seed_df.reset_index().drop(columns='index').astype('float64')\n",
    "\n",
    "  return train_df, val_df, seed_df"
   ]
  },
  {
   "cell_type": "code",
   "execution_count": null,
   "id": "7Sh6ZVdBT0Vs",
   "metadata": {
    "executionInfo": {
     "elapsed": 1468,
     "status": "ok",
     "timestamp": 1669982864680,
     "user": {
      "displayName": "Jason Grieder",
      "userId": "14883558658845383466"
     },
     "user_tz": -60
    },
    "id": "7Sh6ZVdBT0Vs"
   },
   "outputs": [],
   "source": [
    "train_df, val_df, seed_df = data_split(sample_files)"
   ]
  },
  {
   "cell_type": "code",
   "execution_count": null,
   "id": "HScL5_wStb41",
   "metadata": {
    "executionInfo": {
     "elapsed": 530,
     "status": "ok",
     "timestamp": 1669982869970,
     "user": {
      "displayName": "Jason Grieder",
      "userId": "14883558658845383466"
     },
     "user_tz": -60
    },
    "id": "HScL5_wStb41"
   },
   "outputs": [],
   "source": [
    "train_df.to_csv(os.path.join(\"data\", \"processed_data\", \n",
    "                             \"processed_train.csv\"))\n",
    "val_df.to_csv(os.path.join(\"data\", \"processed_data\", \n",
    "                           \"processed_val.csv\"))\n",
    "seed_df.to_csv(os.path.join(\"data\", \"processed_data\", \n",
    "                            \"processed_seed.csv\"))"
   ]
  },
  {
   "cell_type": "code",
   "execution_count": null,
   "id": "aeXPGMDqvZ_x",
   "metadata": {
    "executionInfo": {
     "elapsed": 199,
     "status": "ok",
     "timestamp": 1669984621875,
     "user": {
      "displayName": "Jason Grieder",
      "userId": "14883558658845383466"
     },
     "user_tz": -60
    },
    "id": "aeXPGMDqvZ_x"
   },
   "outputs": [],
   "source": [
    "def df_to_dataset(df: pd.DataFrame):\n",
    "  \"\"\"Transforms a dataframe into a Tensorflow dataset\"\"\"\n",
    "  \n",
    "  cols=['pitch', 'step', 'velocity']\n",
    "  dataset = np.stack([df[col] for col in cols], axis=1)\n",
    "  dataset = tf.data.Dataset.from_tensor_slices(dataset)\n",
    "\n",
    "  return dataset"
   ]
  },
  {
   "cell_type": "code",
   "execution_count": null,
   "id": "E_7GWpXet9d4",
   "metadata": {
    "executionInfo": {
     "elapsed": 218,
     "status": "ok",
     "timestamp": 1669983382382,
     "user": {
      "displayName": "Jason Grieder",
      "userId": "14883558658845383466"
     },
     "user_tz": -60
    },
    "id": "E_7GWpXet9d4"
   },
   "outputs": [],
   "source": [
    "train_notes, val_notes, seed_notes = df_to_dataset(train_df), df_to_dataset(val_df), df_to_dataset(seed_df)"
   ]
  },
  {
   "cell_type": "code",
   "execution_count": null,
   "id": "nQoubxmSuFG_",
   "metadata": {
    "executionInfo": {
     "elapsed": 197,
     "status": "ok",
     "timestamp": 1669983465044,
     "user": {
      "displayName": "Jason Grieder",
      "userId": "14883558658845383466"
     },
     "user_tz": -60
    },
    "id": "nQoubxmSuFG_"
   },
   "outputs": [],
   "source": [
    "def create_sequences(\n",
    "    dataset: tf.data.Dataset, \n",
    "    seq_length: int = 40\n",
    ") -> tf.data.Dataset:\n",
    "  \"\"\"Returns TF Dataset of sequence and label examples.\"\"\"\n",
    "  seq_length = seq_length+1\n",
    "\n",
    "  # Take 1 extra for the labels\n",
    "  windows = dataset.window(seq_length, shift=1, stride=1,\n",
    "                              drop_remainder=True)\n",
    "\n",
    "  # `flat_map` flattens the\" dataset of datasets\" into a dataset of tensors\n",
    "  flatten = lambda x: x.batch(seq_length, drop_remainder=True)\n",
    "  sequences = windows.flat_map(flatten)\n",
    "\n",
    "  # Split the labels\n",
    "  def split_labels(sequences):\n",
    "    inputs = sequences[:-1]\n",
    "    labels_dense = sequences[-1]\n",
    "    labels = {key:labels_dense[i] for i,key in enumerate(['pitch', 'step', 'velocity'])}\n",
    "\n",
    "    return inputs, labels\n",
    "\n",
    "  return sequences.map(split_labels, num_parallel_calls=tf.data.AUTOTUNE)"
   ]
  },
  {
   "cell_type": "code",
   "execution_count": null,
   "id": "uMKoYJFkudwA",
   "metadata": {
    "executionInfo": {
     "elapsed": 198,
     "status": "ok",
     "timestamp": 1669983471164,
     "user": {
      "displayName": "Jason Grieder",
      "userId": "14883558658845383466"
     },
     "user_tz": -60
    },
    "id": "uMKoYJFkudwA"
   },
   "outputs": [],
   "source": [
    "train_seq_ds = create_sequences(train_notes)\n",
    "\n",
    "val_seq_ds = create_sequences(val_notes)\n",
    "\n",
    "seed_seq_ds = create_sequences(seed_notes)"
   ]
  },
  {
   "cell_type": "code",
   "execution_count": null,
   "id": "dPgvWG8Eu_mu",
   "metadata": {
    "executionInfo": {
     "elapsed": 203,
     "status": "ok",
     "timestamp": 1669984321346,
     "user": {
      "displayName": "Jason Grieder",
      "userId": "14883558658845383466"
     },
     "user_tz": -60
    },
    "id": "dPgvWG8Eu_mu"
   },
   "outputs": [],
   "source": [
    "def create_batches(sequences,\n",
    "                   batch_size: int=128):\n",
    "  \"\"\"Returns batched dataset for more efficient \n",
    "  data extraction during model training.\"\"\"\n",
    "\n",
    "  ds = (sequences\n",
    "        .batch(batch_size, drop_remainder=True)\n",
    "        .cache()\n",
    "        .prefetch(tf.data.experimental.AUTOTUNE))\n",
    "  return ds"
   ]
  },
  {
   "cell_type": "code",
   "execution_count": null,
   "id": "lVASj08I0oJE",
   "metadata": {
    "executionInfo": {
     "elapsed": 227,
     "status": "ok",
     "timestamp": 1669984412614,
     "user": {
      "displayName": "Jason Grieder",
      "userId": "14883558658845383466"
     },
     "user_tz": -60
    },
    "id": "lVASj08I0oJE"
   },
   "outputs": [],
   "source": [
    "train_ds = create_batches(train_seq_ds)\n",
    "\n",
    "val_ds = create_batches(val_seq_ds)\n",
    "\n",
    "seed_ds = create_batches(seed_seq_ds)"
   ]
  },
  {
   "cell_type": "markdown",
   "id": "NRC_Lb4PtXw4",
   "metadata": {
    "id": "NRC_Lb4PtXw4"
   },
   "source": [
    "## Model"
   ]
  },
  {
   "cell_type": "code",
   "execution_count": null,
   "id": "B-h-DXRevfc9",
   "metadata": {
    "executionInfo": {
     "elapsed": 201,
     "status": "ok",
     "timestamp": 1669985105584,
     "user": {
      "displayName": "Jason Grieder",
      "userId": "14883558658845383466"
     },
     "user_tz": -60
    },
    "id": "B-h-DXRevfc9"
   },
   "outputs": [],
   "source": [
    "def instantiate_model(seq_length: int=40):\n",
    "  \"\"\"instantiate RNN model\"\"\"\n",
    "\n",
    "  input_shape = (seq_length, 3)\n",
    "\n",
    "  inputs = tf.keras.Input(input_shape)\n",
    "  model = LSTM(512, return_sequences=True)(inputs)\n",
    "\n",
    "  model = Dropout(0.1)(model)\n",
    "  model = LSTM(256, return_sequences=True)(model)\n",
    "  model = Dropout(0.2)(model)\n",
    "  model = LSTM(128)(model)\n",
    "  model = Dense(64)(model)\n",
    "  model = Dropout(0.3)(model)\n",
    "  outputs = {\n",
    "    'pitch': Dense(88, name='pitch', activation='softmax')(model),\n",
    "    'step': Dense(1, name='step')(model),\n",
    "    'velocity': Dense(1, name='velocity')(model)\n",
    "  }\n",
    "\n",
    "  model = tf.keras.Model(inputs, outputs)\n",
    "\n",
    "  return model"
   ]
  },
  {
   "cell_type": "code",
   "execution_count": null,
   "id": "wnj7WKm73n2r",
   "metadata": {
    "executionInfo": {
     "elapsed": 1763,
     "status": "ok",
     "timestamp": 1669985119433,
     "user": {
      "displayName": "Jason Grieder",
      "userId": "14883558658845383466"
     },
     "user_tz": -60
    },
    "id": "wnj7WKm73n2r"
   },
   "outputs": [],
   "source": [
    "model = instantiate_model()"
   ]
  },
  {
   "cell_type": "code",
   "execution_count": null,
   "id": "upObQSkm_1jP",
   "metadata": {
    "id": "upObQSkm_1jP"
   },
   "outputs": [],
   "source": [
    "tf.keras.utils.plot_model(model, 'a.png', show_shapes=True)"
   ]
  },
  {
   "cell_type": "code",
   "execution_count": null,
   "id": "0WjNMqmRvTjg",
   "metadata": {
    "executionInfo": {
     "elapsed": 201,
     "status": "ok",
     "timestamp": 1669984421089,
     "user": {
      "displayName": "Jason Grieder",
      "userId": "14883558658845383466"
     },
     "user_tz": -60
    },
    "id": "0WjNMqmRvTjg"
   },
   "outputs": [],
   "source": [
    "def mse_with_positive_pressure(y_true: tf.Tensor, y_pred: tf.Tensor):\n",
    "  mse = (y_true - y_pred) ** 2\n",
    "  positive_pressure = 10 * tf.maximum(-y_pred, 0.0)\n",
    "  return tf.reduce_mean(mse + positive_pressure)"
   ]
  },
  {
   "cell_type": "code",
   "execution_count": null,
   "id": "RjJPX7dU3NHw",
   "metadata": {
    "executionInfo": {
     "elapsed": 215,
     "status": "ok",
     "timestamp": 1669985220354,
     "user": {
      "displayName": "Jason Grieder",
      "userId": "14883558658845383466"
     },
     "user_tz": -60
    },
    "id": "RjJPX7dU3NHw"
   },
   "outputs": [],
   "source": [
    "metrics = {'pitch': 'accuracy', \n",
    "           'step': 'mse',\n",
    "           'velocity': 'mse'}\n",
    "\n",
    "\n",
    "loss = {'pitch': tf.keras.losses.SparseCategoricalCrossentropy(from_logits=True),\n",
    "        'step': mse_with_positive_pressure,\n",
    "        'velocity': mse_with_positive_pressure}\n",
    "\n",
    "loss_weights={\n",
    "    'pitch': 0.05,\n",
    "    'step': 0.01,\n",
    "    'velocity':0.001}"
   ]
  },
  {
   "cell_type": "code",
   "execution_count": null,
   "id": "OZNewgPLyAtH",
   "metadata": {
    "executionInfo": {
     "elapsed": 213,
     "status": "ok",
     "timestamp": 1669985221470,
     "user": {
      "displayName": "Jason Grieder",
      "userId": "14883558658845383466"
     },
     "user_tz": -60
    },
    "id": "OZNewgPLyAtH"
   },
   "outputs": [],
   "source": [
    "model.compile(\n",
    "    loss=loss,\n",
    "    loss_weights=loss_weights,\n",
    "    optimizer='rmsprop',\n",
    "    metrics=metrics\n",
    ")"
   ]
  },
  {
   "cell_type": "code",
   "execution_count": null,
   "id": "KTtt1dmoyU0p",
   "metadata": {
    "executionInfo": {
     "elapsed": 4,
     "status": "ok",
     "timestamp": 1669985260364,
     "user": {
      "displayName": "Jason Grieder",
      "userId": "14883558658845383466"
     },
     "user_tz": -60
    },
    "id": "KTtt1dmoyU0p"
   },
   "outputs": [],
   "source": [
    "callbacks = [\n",
    "    tf.keras.callbacks.ModelCheckpoint(\n",
    "        filepath='./training_checkpoints/ckpt_{epoch}',\n",
    "        save_weights_only=True),\n",
    "        EarlyStopping(monitor='loss',\n",
    "                      patience=20,\n",
    "                      verbose=0,\n",
    "                      restore_best_weights=True),\n",
    "]"
   ]
  },
  {
   "cell_type": "code",
   "execution_count": null,
   "id": "07LMkX9pyxnn",
   "metadata": {
    "colab": {
     "base_uri": "https://localhost:8080/",
     "height": 704
    },
    "executionInfo": {
     "elapsed": 270,
     "status": "ok",
     "timestamp": 1669971626326,
     "user": {
      "displayName": "Jason Grieder",
      "userId": "14883558658845383466"
     },
     "user_tz": -60
    },
    "id": "07LMkX9pyxnn",
    "outputId": "6afdb972-f33b-4768-ae93-01b94f55e40f"
   },
   "outputs": [
    {
     "name": "stdout",
     "output_type": "stream",
     "text": [
      "Epoch 1/100\n"
     ]
    },
    {
     "ename": "TypeError",
     "evalue": "ignored",
     "output_type": "error",
     "traceback": [
      "\u001b[0;31m---------------------------------------------------------------------------\u001b[0m",
      "\u001b[0;31mTypeError\u001b[0m                                 Traceback (most recent call last)",
      "\u001b[0;32m<timed exec>\u001b[0m in \u001b[0;36m<module>\u001b[0;34m\u001b[0m\n",
      "\u001b[0;32m/usr/local/lib/python3.8/dist-packages/keras/utils/traceback_utils.py\u001b[0m in \u001b[0;36merror_handler\u001b[0;34m(*args, **kwargs)\u001b[0m\n\u001b[1;32m     65\u001b[0m     \u001b[0;32mexcept\u001b[0m \u001b[0mException\u001b[0m \u001b[0;32mas\u001b[0m \u001b[0me\u001b[0m\u001b[0;34m:\u001b[0m  \u001b[0;31m# pylint: disable=broad-except\u001b[0m\u001b[0;34m\u001b[0m\u001b[0;34m\u001b[0m\u001b[0m\n\u001b[1;32m     66\u001b[0m       \u001b[0mfiltered_tb\u001b[0m \u001b[0;34m=\u001b[0m \u001b[0m_process_traceback_frames\u001b[0m\u001b[0;34m(\u001b[0m\u001b[0me\u001b[0m\u001b[0;34m.\u001b[0m\u001b[0m__traceback__\u001b[0m\u001b[0;34m)\u001b[0m\u001b[0;34m\u001b[0m\u001b[0;34m\u001b[0m\u001b[0m\n\u001b[0;32m---> 67\u001b[0;31m       \u001b[0;32mraise\u001b[0m \u001b[0me\u001b[0m\u001b[0;34m.\u001b[0m\u001b[0mwith_traceback\u001b[0m\u001b[0;34m(\u001b[0m\u001b[0mfiltered_tb\u001b[0m\u001b[0;34m)\u001b[0m \u001b[0;32mfrom\u001b[0m \u001b[0;32mNone\u001b[0m\u001b[0;34m\u001b[0m\u001b[0;34m\u001b[0m\u001b[0m\n\u001b[0m\u001b[1;32m     68\u001b[0m     \u001b[0;32mfinally\u001b[0m\u001b[0;34m:\u001b[0m\u001b[0;34m\u001b[0m\u001b[0;34m\u001b[0m\u001b[0m\n\u001b[1;32m     69\u001b[0m       \u001b[0;32mdel\u001b[0m \u001b[0mfiltered_tb\u001b[0m\u001b[0;34m\u001b[0m\u001b[0;34m\u001b[0m\u001b[0m\n",
      "\u001b[0;32m/usr/local/lib/python3.8/dist-packages/keras/engine/training.py\u001b[0m in \u001b[0;36mtf__train_function\u001b[0;34m(iterator)\u001b[0m\n\u001b[1;32m     13\u001b[0m                 \u001b[0;32mtry\u001b[0m\u001b[0;34m:\u001b[0m\u001b[0;34m\u001b[0m\u001b[0;34m\u001b[0m\u001b[0m\n\u001b[1;32m     14\u001b[0m                     \u001b[0mdo_return\u001b[0m \u001b[0;34m=\u001b[0m \u001b[0;32mTrue\u001b[0m\u001b[0;34m\u001b[0m\u001b[0;34m\u001b[0m\u001b[0m\n\u001b[0;32m---> 15\u001b[0;31m                     \u001b[0mretval_\u001b[0m \u001b[0;34m=\u001b[0m \u001b[0mag__\u001b[0m\u001b[0;34m.\u001b[0m\u001b[0mconverted_call\u001b[0m\u001b[0;34m(\u001b[0m\u001b[0mag__\u001b[0m\u001b[0;34m.\u001b[0m\u001b[0mld\u001b[0m\u001b[0;34m(\u001b[0m\u001b[0mstep_function\u001b[0m\u001b[0;34m)\u001b[0m\u001b[0;34m,\u001b[0m \u001b[0;34m(\u001b[0m\u001b[0mag__\u001b[0m\u001b[0;34m.\u001b[0m\u001b[0mld\u001b[0m\u001b[0;34m(\u001b[0m\u001b[0mself\u001b[0m\u001b[0;34m)\u001b[0m\u001b[0;34m,\u001b[0m \u001b[0mag__\u001b[0m\u001b[0;34m.\u001b[0m\u001b[0mld\u001b[0m\u001b[0;34m(\u001b[0m\u001b[0miterator\u001b[0m\u001b[0;34m)\u001b[0m\u001b[0;34m)\u001b[0m\u001b[0;34m,\u001b[0m \u001b[0;32mNone\u001b[0m\u001b[0;34m,\u001b[0m \u001b[0mfscope\u001b[0m\u001b[0;34m)\u001b[0m\u001b[0;34m\u001b[0m\u001b[0;34m\u001b[0m\u001b[0m\n\u001b[0m\u001b[1;32m     16\u001b[0m                 \u001b[0;32mexcept\u001b[0m\u001b[0;34m:\u001b[0m\u001b[0;34m\u001b[0m\u001b[0;34m\u001b[0m\u001b[0m\n\u001b[1;32m     17\u001b[0m                     \u001b[0mdo_return\u001b[0m \u001b[0;34m=\u001b[0m \u001b[0;32mFalse\u001b[0m\u001b[0;34m\u001b[0m\u001b[0;34m\u001b[0m\u001b[0m\n",
      "\u001b[0;31mTypeError\u001b[0m: in user code:\n\n    File \"/usr/local/lib/python3.8/dist-packages/keras/engine/training.py\", line 1051, in train_function  *\n        return step_function(self, iterator)\n    File \"/usr/local/lib/python3.8/dist-packages/keras/engine/training.py\", line 1040, in step_function  **\n        outputs = model.distribute_strategy.run(run_step, args=(data,))\n    File \"/usr/local/lib/python3.8/dist-packages/keras/engine/training.py\", line 1030, in run_step  **\n        outputs = model.train_step(data)\n    File \"/usr/local/lib/python3.8/dist-packages/keras/engine/training.py\", line 889, in train_step\n        y_pred = self(x, training=True)\n    File \"/usr/local/lib/python3.8/dist-packages/keras/utils/traceback_utils.py\", line 67, in error_handler\n        raise e.with_traceback(filtered_tb) from None\n    File \"/usr/local/lib/python3.8/dist-packages/keras/engine/input_spec.py\", line 197, in assert_input_compatibility\n        raise TypeError(f'Inputs to a layer should be tensors. Got: {x}')\n\n    TypeError: Inputs to a layer should be tensors. Got: <_VariantDataset element_spec=TensorSpec(shape=(128, 40, 3), dtype=tf.float64, name=None)>\n"
     ]
    }
   ],
   "source": [
    "%%time\n",
    "epochs = 500\n",
    "\n",
    "history = model.fit(\n",
    "    train_ds,\n",
    "    epochs=epochs,\n",
    "    callbacks=callbacks,\n",
    "    validation_data = val_ds\n",
    ")"
   ]
  },
  {
   "cell_type": "code",
   "execution_count": null,
   "id": "UmqdTGaj6hSj",
   "metadata": {
    "colab": {
     "base_uri": "https://localhost:8080/",
     "height": 265
    },
    "executionInfo": {
     "elapsed": 730,
     "status": "ok",
     "timestamp": 1669908274874,
     "user": {
      "displayName": "Jason Grieder",
      "userId": "14883558658845383466"
     },
     "user_tz": -60
    },
    "id": "UmqdTGaj6hSj",
    "outputId": "086b7685-ffbf-43bb-835d-78aa71c42239"
   },
   "outputs": [
    {
     "data": {
      "image/png": "[encoded data removed]",
      "text/plain": [
       "<Figure size 432x288 with 1 Axes>"
      ]
     },
     "metadata": {
      "image/png": {
       "height": 248,
       "width": 372
      },
      "needs_background": "light"
     },
     "output_type": "display_data"
    }
   ],
   "source": [
    "plt.plot(history.epoch, history.history['loss'], label='total loss')\n",
    "plt.show()"
   ]
  },
  {
   "cell_type": "markdown",
   "id": "M25cL-VpU93Y",
   "metadata": {
    "id": "M25cL-VpU93Y"
   },
   "source": [
    "### Prediction"
   ]
  },
  {
   "cell_type": "code",
   "execution_count": null,
   "id": "wGojwqiGTkAP",
   "metadata": {
    "id": "wGojwqiGTkAP"
   },
   "outputs": [],
   "source": [
    "def predict_notes(\n",
    "    notes: pd.DataFrame, \n",
    "    keras_model: tf.keras.Model, \n",
    "    temperature: float = 1.0, \n",
    "    num_predictions: int=150,\n",
    "    seq_length: int=40) -> pd.DataFrame:\n",
    "  \"\"\"Generates n following notes as a dataframe.\"\"\"\n",
    "\n",
    "  input_notes = (np.stack([notes[key] for key in ['pitch', 'step', 'velocity']], axis=1) - np.array([21, 0, 0]))[-seq_length:]\n",
    "  generated_notes = []\n",
    "  prev_start = 0\n",
    "  for _ in range(num_predictions):\n",
    "    input_notes = tf.expand_dims(input_notes, 0)\n",
    "    predictions = model.predict(input_notes, verbose=0)\n",
    "    pitch_logits = predictions['pitch']\n",
    "    step = predictions['step']\n",
    "    velocity = predictions['velocity']\n",
    "\n",
    "    pitch_logits /= temperature\n",
    "    pitch = tf.random.categorical(pitch_logits, num_samples=1)\n",
    "    pitch = tf.squeeze(pitch, axis=-1)\n",
    "    velocity = tf.squeeze(velocity, axis=-1)\n",
    "    step = tf.squeeze(step, axis=-1)\n",
    "\n",
    "    # `step` and `velocity` values should be non-negative\n",
    "    step = tf.maximum(0, step)\n",
    "    velocity = tf.maximum(0, velocity)\n",
    "    input_note = [np.array(pitch)[0], np.array(step)[0], np.array(velocity)[0]]\n",
    "    generated_notes.append(input_note)\n",
    "    input_notes = np.delete(np.squeeze(input_notes, 0), 0, axis=0)\n",
    "\n",
    "    input_notes = np.append(input_notes, np.array(input_note, ndmin=2), axis=0)\n",
    "\n",
    "  generated_notes = pd.DataFrame(\n",
    "      generated_notes, columns=['pitch', 'step', 'velocity'])\n",
    "  \n",
    "  return generated_notes"
   ]
  },
  {
   "cell_type": "code",
   "execution_count": null,
   "id": "CjPfrkIpX3HE",
   "metadata": {
    "id": "CjPfrkIpX3HE"
   },
   "outputs": [],
   "source": [
    "pred = predict_notes(processed_files[0], model)"
   ]
  },
  {
   "cell_type": "markdown",
   "id": "vHkr4tydtdz-",
   "metadata": {
    "id": "vHkr4tydtdz-"
   },
   "source": [
    "## Audio file"
   ]
  },
  {
   "cell_type": "code",
   "execution_count": null,
   "id": "NmKx64TQRUXt",
   "metadata": {
    "id": "NmKx64TQRUXt"
   },
   "outputs": [],
   "source": [
    "def notes_to_midi(\n",
    "  notes: pd.DataFrame,\n",
    ") -> pm.PrettyMIDI:\n",
    "\n",
    "  p = pm.PrettyMIDI()\n",
    "  instrument = pm.Instrument(program=pm.instrument_name_to_program('Acoustic Grand Piano'))\n",
    "  \n",
    "  prev_start = 0\n",
    "  for i, note in notes.iterrows():\n",
    "    start = float(prev_start + note['step'])\n",
    "    end = float(start + 0.27)\n",
    "    note = pm.Note(\n",
    "        velocity=int(note['velocity']),\n",
    "        pitch=int(note['pitch']),\n",
    "        start=start,\n",
    "        end=end,\n",
    "    )\n",
    "    instrument.notes.append(note)\n",
    "    prev_start = start\n",
    "\n",
    "  p.instruments.append(instrument)\n",
    "  p.write('file.mid')\n",
    "  return p"
   ]
  },
  {
   "cell_type": "code",
   "execution_count": null,
   "id": "ixgKTomX3wbm",
   "metadata": {
    "id": "ixgKTomX3wbm"
   },
   "outputs": [],
   "source": [
    "file = notes_to_midi(pred)"
   ]
  }
 ],
 "metadata": {
  "accelerator": "GPU",
  "colab": {
   "collapsed_sections": [
    "sdXyWhQgaw7y"
   ],
   "provenance": []
  },
  "gpuClass": "standard",
  "kernelspec": {
   "display_name": "Python 3 (ipykernel)",
   "language": "python",
   "name": "python3"
  },
  "language_info": {
   "codemirror_mode": {
    "name": "ipython",
    "version": 3
   },
   "file_extension": ".py",
   "mimetype": "text/x-python",
   "name": "python",
   "nbconvert_exporter": "python",
   "pygments_lexer": "ipython3",
   "version": "3.10.6"
  },
  "toc": {
   "base_numbering": 1,
   "nav_menu": {},
   "number_sections": true,
   "sideBar": true,
   "skip_h1_title": false,
   "title_cell": "Table of Contents",
   "title_sidebar": "Contents",
   "toc_cell": false,
   "toc_position": {},
   "toc_section_display": true,
   "toc_window_display": false
  },
  "vscode": {
   "interpreter": {
    "hash": "7e084d7a5ba7d9ec85e939427cdb263bb3b5544b1324a9abd9101fdf4e200622"
   }
  }
 },
 "nbformat": 4,
 "nbformat_minor": 5
}
